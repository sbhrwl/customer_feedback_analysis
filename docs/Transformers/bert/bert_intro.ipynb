{
  "cells": [
    {
      "cell_type": "markdown",
      "metadata": {
        "id": "view-in-github",
        "colab_type": "text"
      },
      "source": [
        "<a href=\"https://colab.research.google.com/github/sbhrwl/nlp/blob/main/bert_intro.ipynb\" target=\"_parent\"><img src=\"https://colab.research.google.com/assets/colab-badge.svg\" alt=\"Open In Colab\"/></a>"
      ]
    },
    {
      "cell_type": "markdown",
      "source": [
        "# Tensorflow hub"
      ],
      "metadata": {
        "id": "9gnbgStBSJBF"
      }
    },
    {
      "cell_type": "markdown",
      "metadata": {
        "id": "ZX2DPQ4uMeuX"
      },
      "source": [
        "Here is the page that has list of all available bert models on tensorflow hub that one can download and make use of.\n",
        "\n",
        "https://tfhub.dev/google/collections/bert/1\n",
        "\n",
        "Here is the information on basic uncased BERT model,\n",
        "\n",
        "https://tfhub.dev/tensorflow/bert_en_uncased_L-12_H-768_A-12/4\n",
        "\n",
        "It uses L=12 hidden layers (i.e., Transformer blocks), a hidden size of H=768, and A=12 attention heads. This model has been pre-trained for English on the Wikipedia and BooksCorpus. "
      ]
    },
    {
      "cell_type": "code",
      "source": [
        "!pip install tensorflow_text"
      ],
      "metadata": {
        "colab": {
          "base_uri": "https://localhost:8080/",
          "height": 989
        },
        "id": "8CLOPaU3Pmqa",
        "outputId": "d6411f30-f6ff-4824-f439-b33c98778b52"
      },
      "execution_count": null,
      "outputs": [
        {
          "output_type": "stream",
          "name": "stdout",
          "text": [
            "Collecting tensorflow_text\n",
            "  Downloading tensorflow_text-2.8.1-cp37-cp37m-manylinux_2_12_x86_64.manylinux2010_x86_64.whl (4.9 MB)\n",
            "\u001b[K     |████████████████████████████████| 4.9 MB 5.4 MB/s \n",
            "\u001b[?25hRequirement already satisfied: tensorflow-hub>=0.8.0 in /usr/local/lib/python3.7/dist-packages (from tensorflow_text) (0.12.0)\n",
            "Requirement already satisfied: tensorflow<2.9,>=2.8.0 in /usr/local/lib/python3.7/dist-packages (from tensorflow_text) (2.8.0)\n",
            "Requirement already satisfied: keras<2.9,>=2.8.0rc0 in /usr/local/lib/python3.7/dist-packages (from tensorflow<2.9,>=2.8.0->tensorflow_text) (2.8.0)\n",
            "Requirement already satisfied: google-pasta>=0.1.1 in /usr/local/lib/python3.7/dist-packages (from tensorflow<2.9,>=2.8.0->tensorflow_text) (0.2.0)\n",
            "Collecting tf-estimator-nightly==2.8.0.dev2021122109\n",
            "  Downloading tf_estimator_nightly-2.8.0.dev2021122109-py2.py3-none-any.whl (462 kB)\n",
            "\u001b[K     |████████████████████████████████| 462 kB 52.6 MB/s \n",
            "\u001b[?25hRequirement already satisfied: grpcio<2.0,>=1.24.3 in /usr/local/lib/python3.7/dist-packages (from tensorflow<2.9,>=2.8.0->tensorflow_text) (1.44.0)\n",
            "Requirement already satisfied: absl-py>=0.4.0 in /usr/local/lib/python3.7/dist-packages (from tensorflow<2.9,>=2.8.0->tensorflow_text) (1.0.0)\n",
            "Requirement already satisfied: libclang>=9.0.1 in /usr/local/lib/python3.7/dist-packages (from tensorflow<2.9,>=2.8.0->tensorflow_text) (13.0.0)\n",
            "Requirement already satisfied: setuptools in /usr/local/lib/python3.7/dist-packages (from tensorflow<2.9,>=2.8.0->tensorflow_text) (57.4.0)\n",
            "Requirement already satisfied: gast>=0.2.1 in /usr/local/lib/python3.7/dist-packages (from tensorflow<2.9,>=2.8.0->tensorflow_text) (0.5.3)\n",
            "Requirement already satisfied: termcolor>=1.1.0 in /usr/local/lib/python3.7/dist-packages (from tensorflow<2.9,>=2.8.0->tensorflow_text) (1.1.0)\n",
            "Requirement already satisfied: opt-einsum>=2.3.2 in /usr/local/lib/python3.7/dist-packages (from tensorflow<2.9,>=2.8.0->tensorflow_text) (3.3.0)\n",
            "Requirement already satisfied: numpy>=1.20 in /usr/local/lib/python3.7/dist-packages (from tensorflow<2.9,>=2.8.0->tensorflow_text) (1.21.5)\n",
            "Requirement already satisfied: h5py>=2.9.0 in /usr/local/lib/python3.7/dist-packages (from tensorflow<2.9,>=2.8.0->tensorflow_text) (3.1.0)\n",
            "Requirement already satisfied: astunparse>=1.6.0 in /usr/local/lib/python3.7/dist-packages (from tensorflow<2.9,>=2.8.0->tensorflow_text) (1.6.3)\n",
            "Requirement already satisfied: wrapt>=1.11.0 in /usr/local/lib/python3.7/dist-packages (from tensorflow<2.9,>=2.8.0->tensorflow_text) (1.13.3)\n",
            "Requirement already satisfied: flatbuffers>=1.12 in /usr/local/lib/python3.7/dist-packages (from tensorflow<2.9,>=2.8.0->tensorflow_text) (2.0)\n",
            "Requirement already satisfied: typing-extensions>=3.6.6 in /usr/local/lib/python3.7/dist-packages (from tensorflow<2.9,>=2.8.0->tensorflow_text) (3.10.0.2)\n",
            "Requirement already satisfied: six>=1.12.0 in /usr/local/lib/python3.7/dist-packages (from tensorflow<2.9,>=2.8.0->tensorflow_text) (1.15.0)\n",
            "Requirement already satisfied: keras-preprocessing>=1.1.1 in /usr/local/lib/python3.7/dist-packages (from tensorflow<2.9,>=2.8.0->tensorflow_text) (1.1.2)\n",
            "Requirement already satisfied: protobuf>=3.9.2 in /usr/local/lib/python3.7/dist-packages (from tensorflow<2.9,>=2.8.0->tensorflow_text) (3.17.3)\n",
            "Requirement already satisfied: tensorboard<2.9,>=2.8 in /usr/local/lib/python3.7/dist-packages (from tensorflow<2.9,>=2.8.0->tensorflow_text) (2.8.0)\n",
            "Requirement already satisfied: tensorflow-io-gcs-filesystem>=0.23.1 in /usr/local/lib/python3.7/dist-packages (from tensorflow<2.9,>=2.8.0->tensorflow_text) (0.24.0)\n",
            "Requirement already satisfied: wheel<1.0,>=0.23.0 in /usr/local/lib/python3.7/dist-packages (from astunparse>=1.6.0->tensorflow<2.9,>=2.8.0->tensorflow_text) (0.37.1)\n",
            "Requirement already satisfied: cached-property in /usr/local/lib/python3.7/dist-packages (from h5py>=2.9.0->tensorflow<2.9,>=2.8.0->tensorflow_text) (1.5.2)\n",
            "Requirement already satisfied: werkzeug>=0.11.15 in /usr/local/lib/python3.7/dist-packages (from tensorboard<2.9,>=2.8->tensorflow<2.9,>=2.8.0->tensorflow_text) (1.0.1)\n",
            "Requirement already satisfied: tensorboard-plugin-wit>=1.6.0 in /usr/local/lib/python3.7/dist-packages (from tensorboard<2.9,>=2.8->tensorflow<2.9,>=2.8.0->tensorflow_text) (1.8.1)\n",
            "Requirement already satisfied: google-auth-oauthlib<0.5,>=0.4.1 in /usr/local/lib/python3.7/dist-packages (from tensorboard<2.9,>=2.8->tensorflow<2.9,>=2.8.0->tensorflow_text) (0.4.6)\n",
            "Requirement already satisfied: tensorboard-data-server<0.7.0,>=0.6.0 in /usr/local/lib/python3.7/dist-packages (from tensorboard<2.9,>=2.8->tensorflow<2.9,>=2.8.0->tensorflow_text) (0.6.1)\n",
            "Requirement already satisfied: markdown>=2.6.8 in /usr/local/lib/python3.7/dist-packages (from tensorboard<2.9,>=2.8->tensorflow<2.9,>=2.8.0->tensorflow_text) (3.3.6)\n",
            "Requirement already satisfied: google-auth<3,>=1.6.3 in /usr/local/lib/python3.7/dist-packages (from tensorboard<2.9,>=2.8->tensorflow<2.9,>=2.8.0->tensorflow_text) (1.35.0)\n",
            "Requirement already satisfied: requests<3,>=2.21.0 in /usr/local/lib/python3.7/dist-packages (from tensorboard<2.9,>=2.8->tensorflow<2.9,>=2.8.0->tensorflow_text) (2.23.0)\n",
            "Requirement already satisfied: rsa<5,>=3.1.4 in /usr/local/lib/python3.7/dist-packages (from google-auth<3,>=1.6.3->tensorboard<2.9,>=2.8->tensorflow<2.9,>=2.8.0->tensorflow_text) (4.8)\n",
            "Requirement already satisfied: pyasn1-modules>=0.2.1 in /usr/local/lib/python3.7/dist-packages (from google-auth<3,>=1.6.3->tensorboard<2.9,>=2.8->tensorflow<2.9,>=2.8.0->tensorflow_text) (0.2.8)\n",
            "Requirement already satisfied: cachetools<5.0,>=2.0.0 in /usr/local/lib/python3.7/dist-packages (from google-auth<3,>=1.6.3->tensorboard<2.9,>=2.8->tensorflow<2.9,>=2.8.0->tensorflow_text) (4.2.4)\n",
            "Requirement already satisfied: requests-oauthlib>=0.7.0 in /usr/local/lib/python3.7/dist-packages (from google-auth-oauthlib<0.5,>=0.4.1->tensorboard<2.9,>=2.8->tensorflow<2.9,>=2.8.0->tensorflow_text) (1.3.1)\n",
            "Requirement already satisfied: importlib-metadata>=4.4 in /usr/local/lib/python3.7/dist-packages (from markdown>=2.6.8->tensorboard<2.9,>=2.8->tensorflow<2.9,>=2.8.0->tensorflow_text) (4.11.2)\n",
            "Requirement already satisfied: zipp>=0.5 in /usr/local/lib/python3.7/dist-packages (from importlib-metadata>=4.4->markdown>=2.6.8->tensorboard<2.9,>=2.8->tensorflow<2.9,>=2.8.0->tensorflow_text) (3.7.0)\n",
            "Requirement already satisfied: pyasn1<0.5.0,>=0.4.6 in /usr/local/lib/python3.7/dist-packages (from pyasn1-modules>=0.2.1->google-auth<3,>=1.6.3->tensorboard<2.9,>=2.8->tensorflow<2.9,>=2.8.0->tensorflow_text) (0.4.8)\n",
            "Requirement already satisfied: chardet<4,>=3.0.2 in /usr/local/lib/python3.7/dist-packages (from requests<3,>=2.21.0->tensorboard<2.9,>=2.8->tensorflow<2.9,>=2.8.0->tensorflow_text) (3.0.4)\n",
            "Requirement already satisfied: idna<3,>=2.5 in /usr/local/lib/python3.7/dist-packages (from requests<3,>=2.21.0->tensorboard<2.9,>=2.8->tensorflow<2.9,>=2.8.0->tensorflow_text) (2.10)\n",
            "Requirement already satisfied: urllib3!=1.25.0,!=1.25.1,<1.26,>=1.21.1 in /usr/local/lib/python3.7/dist-packages (from requests<3,>=2.21.0->tensorboard<2.9,>=2.8->tensorflow<2.9,>=2.8.0->tensorflow_text) (1.24.3)\n",
            "Requirement already satisfied: certifi>=2017.4.17 in /usr/local/lib/python3.7/dist-packages (from requests<3,>=2.21.0->tensorboard<2.9,>=2.8->tensorflow<2.9,>=2.8.0->tensorflow_text) (2021.10.8)\n",
            "Requirement already satisfied: oauthlib>=3.0.0 in /usr/local/lib/python3.7/dist-packages (from requests-oauthlib>=0.7.0->google-auth-oauthlib<0.5,>=0.4.1->tensorboard<2.9,>=2.8->tensorflow<2.9,>=2.8.0->tensorflow_text) (3.2.0)\n",
            "Installing collected packages: tf-estimator-nightly, tensorflow-text\n",
            "Successfully installed tensorflow-text-2.8.1 tf-estimator-nightly-2.8.0.dev2021122109\n"
          ]
        },
        {
          "output_type": "display_data",
          "data": {
            "application/vnd.colab-display-data+json": {
              "pip_warning": {
                "packages": [
                  "tensorflow_estimator"
                ]
              }
            }
          },
          "metadata": {}
        }
      ]
    },
    {
      "cell_type": "code",
      "execution_count": null,
      "metadata": {
        "id": "DzSkW5w2Meua"
      },
      "outputs": [],
      "source": [
        "import tensorflow_hub as hub\n",
        "import tensorflow_text as text"
      ]
    },
    {
      "cell_type": "code",
      "execution_count": null,
      "metadata": {
        "id": "cFWueypSMeub"
      },
      "outputs": [],
      "source": [
        "preprocess_url = \"https://tfhub.dev/tensorflow/bert_en_uncased_preprocess/3\"\n",
        "encoder_url = \"https://tfhub.dev/tensorflow/bert_en_uncased_L-12_H-768_A-12/4\""
      ]
    },
    {
      "cell_type": "code",
      "execution_count": null,
      "metadata": {
        "scrolled": false,
        "id": "FOZTamqGMeuc"
      },
      "outputs": [],
      "source": [
        "bert_preprocess_model = hub.KerasLayer(preprocess_url)"
      ]
    },
    {
      "cell_type": "code",
      "execution_count": null,
      "metadata": {
        "id": "CoR6PhaYMeuc",
        "outputId": "de6f9659-b084-4186-d1bb-90297aa40bf1"
      },
      "outputs": [
        {
          "data": {
            "text/plain": [
              "dict_keys(['input_mask', 'input_type_ids', 'input_word_ids'])"
            ]
          },
          "execution_count": 7,
          "metadata": {},
          "output_type": "execute_result"
        }
      ],
      "source": [
        "text_test = ['nice movie indeed','I love python programming']\n",
        "text_preprocessed = bert_preprocess_model(text_test)\n",
        "text_preprocessed.keys()"
      ]
    },
    {
      "cell_type": "code",
      "source": [
        "\n",
        "\n",
        "text_test = [\"Let's learn deep learning!\"]\n",
        "text_preprocessed = bert_preprocess_model(text_test)\n",
        "text_preprocessed.keys()"
      ],
      "metadata": {
        "colab": {
          "base_uri": "https://localhost:8080/"
        },
        "id": "w0TD7_PoQYaD",
        "outputId": "66382fbd-1d5c-4f73-cf97-fc0c5fca23f7"
      },
      "execution_count": null,
      "outputs": [
        {
          "output_type": "execute_result",
          "data": {
            "text/plain": [
              "dict_keys(['input_mask', 'input_type_ids', 'input_word_ids'])"
            ]
          },
          "metadata": {},
          "execution_count": 4
        }
      ]
    },
    {
      "cell_type": "code",
      "execution_count": null,
      "metadata": {
        "id": "QxdBrOgwMeud",
        "outputId": "66c46fd4-aef7-42e2-e9be-c62da447772b",
        "colab": {
          "base_uri": "https://localhost:8080/"
        }
      },
      "outputs": [
        {
          "output_type": "execute_result",
          "data": {
            "text/plain": [
              "<tf.Tensor: shape=(1, 128), dtype=int32, numpy=\n",
              "array([[1, 1, 1, 1, 1, 1, 1, 1, 1, 0, 0, 0, 0, 0, 0, 0, 0, 0, 0, 0, 0, 0,\n",
              "        0, 0, 0, 0, 0, 0, 0, 0, 0, 0, 0, 0, 0, 0, 0, 0, 0, 0, 0, 0, 0, 0,\n",
              "        0, 0, 0, 0, 0, 0, 0, 0, 0, 0, 0, 0, 0, 0, 0, 0, 0, 0, 0, 0, 0, 0,\n",
              "        0, 0, 0, 0, 0, 0, 0, 0, 0, 0, 0, 0, 0, 0, 0, 0, 0, 0, 0, 0, 0, 0,\n",
              "        0, 0, 0, 0, 0, 0, 0, 0, 0, 0, 0, 0, 0, 0, 0, 0, 0, 0, 0, 0, 0, 0,\n",
              "        0, 0, 0, 0, 0, 0, 0, 0, 0, 0, 0, 0, 0, 0, 0, 0, 0, 0]],\n",
              "      dtype=int32)>"
            ]
          },
          "metadata": {},
          "execution_count": 5
        }
      ],
      "source": [
        "text_preprocessed['input_mask']"
      ]
    },
    {
      "cell_type": "code",
      "execution_count": null,
      "metadata": {
        "id": "4kjPwA3YMeue",
        "outputId": "9f52b868-92c7-4727-99f6-42b666306fb7",
        "colab": {
          "base_uri": "https://localhost:8080/"
        }
      },
      "outputs": [
        {
          "output_type": "execute_result",
          "data": {
            "text/plain": [
              "<tf.Tensor: shape=(1, 128), dtype=int32, numpy=\n",
              "array([[0, 0, 0, 0, 0, 0, 0, 0, 0, 0, 0, 0, 0, 0, 0, 0, 0, 0, 0, 0, 0, 0,\n",
              "        0, 0, 0, 0, 0, 0, 0, 0, 0, 0, 0, 0, 0, 0, 0, 0, 0, 0, 0, 0, 0, 0,\n",
              "        0, 0, 0, 0, 0, 0, 0, 0, 0, 0, 0, 0, 0, 0, 0, 0, 0, 0, 0, 0, 0, 0,\n",
              "        0, 0, 0, 0, 0, 0, 0, 0, 0, 0, 0, 0, 0, 0, 0, 0, 0, 0, 0, 0, 0, 0,\n",
              "        0, 0, 0, 0, 0, 0, 0, 0, 0, 0, 0, 0, 0, 0, 0, 0, 0, 0, 0, 0, 0, 0,\n",
              "        0, 0, 0, 0, 0, 0, 0, 0, 0, 0, 0, 0, 0, 0, 0, 0, 0, 0]],\n",
              "      dtype=int32)>"
            ]
          },
          "metadata": {},
          "execution_count": 6
        }
      ],
      "source": [
        "text_preprocessed['input_type_ids']"
      ]
    },
    {
      "cell_type": "code",
      "execution_count": null,
      "metadata": {
        "id": "5e2hPOPnMeue",
        "outputId": "fac5eb31-24e7-4952-c579-0fb1adb15357",
        "colab": {
          "base_uri": "https://localhost:8080/"
        }
      },
      "outputs": [
        {
          "output_type": "execute_result",
          "data": {
            "text/plain": [
              "<tf.Tensor: shape=(1, 128), dtype=int32, numpy=\n",
              "array([[ 101, 2292, 1005, 1055, 4553, 2784, 4083,  999,  102,    0,    0,\n",
              "           0,    0,    0,    0,    0,    0,    0,    0,    0,    0,    0,\n",
              "           0,    0,    0,    0,    0,    0,    0,    0,    0,    0,    0,\n",
              "           0,    0,    0,    0,    0,    0,    0,    0,    0,    0,    0,\n",
              "           0,    0,    0,    0,    0,    0,    0,    0,    0,    0,    0,\n",
              "           0,    0,    0,    0,    0,    0,    0,    0,    0,    0,    0,\n",
              "           0,    0,    0,    0,    0,    0,    0,    0,    0,    0,    0,\n",
              "           0,    0,    0,    0,    0,    0,    0,    0,    0,    0,    0,\n",
              "           0,    0,    0,    0,    0,    0,    0,    0,    0,    0,    0,\n",
              "           0,    0,    0,    0,    0,    0,    0,    0,    0,    0,    0,\n",
              "           0,    0,    0,    0,    0,    0,    0,    0,    0,    0,    0,\n",
              "           0,    0,    0,    0,    0,    0,    0]], dtype=int32)>"
            ]
          },
          "metadata": {},
          "execution_count": 7
        }
      ],
      "source": [
        "text_preprocessed['input_word_ids']"
      ]
    },
    {
      "cell_type": "markdown",
      "metadata": {
        "id": "Y9d5s-qEMeuf"
      },
      "source": [
        "**101 --> CLS token**\n",
        "\n",
        "**102 --> SEP token**\n",
        "\n",
        "BERT uses CLS as a special token at the begining of each setence whereas SEP as a special token to \n",
        "separate two sentences or end sinle sentece"
      ]
    },
    {
      "cell_type": "code",
      "execution_count": null,
      "metadata": {
        "id": "fqKrV1ipMeuf"
      },
      "outputs": [],
      "source": [
        "bert_model = hub.KerasLayer(encoder_url)"
      ]
    },
    {
      "cell_type": "code",
      "execution_count": null,
      "metadata": {
        "id": "U8D5wx0VMeug"
      },
      "outputs": [],
      "source": [
        "bert_results = bert_model(text_preprocessed)"
      ]
    },
    {
      "cell_type": "code",
      "execution_count": null,
      "metadata": {
        "id": "QMfUkPrxMeug",
        "outputId": "781134d4-e250-48f3-c6eb-9ede27d0c1c2"
      },
      "outputs": [
        {
          "data": {
            "text/plain": [
              "dict_keys(['default', 'encoder_outputs', 'pooled_output', 'sequence_output'])"
            ]
          },
          "execution_count": 13,
          "metadata": {},
          "output_type": "execute_result"
        }
      ],
      "source": [
        "bert_results.keys()"
      ]
    },
    {
      "cell_type": "code",
      "execution_count": null,
      "metadata": {
        "id": "_0U2MwysMeug",
        "outputId": "aae078cb-8d9b-4a74-fcb6-f4f43715e220"
      },
      "outputs": [
        {
          "data": {
            "text/plain": [
              "<tf.Tensor: shape=(2, 128, 768), dtype=float32, numpy=\n",
              "array([[[ 0.07292037,  0.08567802,  0.14476836, ..., -0.0967709 ,\n",
              "          0.08722147,  0.07711098],\n",
              "        [ 0.17839421, -0.19006097,  0.5034945 , ..., -0.0586979 ,\n",
              "          0.32717168, -0.1557853 ],\n",
              "        [ 0.187015  , -0.4338879 , -0.4887509 , ..., -0.15502754,\n",
              "          0.00145202, -0.24470882],\n",
              "        ...,\n",
              "        [ 0.1208308 ,  0.12884231,  0.464535  , ...,  0.07375526,\n",
              "          0.17441988,  0.16522081],\n",
              "        [ 0.07967911, -0.01190642,  0.50225425, ...,  0.13777754,\n",
              "          0.21002221,  0.0062458 ],\n",
              "        [-0.07212636, -0.28303444,  0.5903337 , ...,  0.47551885,\n",
              "          0.16668531, -0.08920398]],\n",
              "\n",
              "       [[-0.0790057 ,  0.36335146, -0.21101563, ..., -0.1718371 ,\n",
              "          0.1629976 ,  0.6724266 ],\n",
              "        [ 0.27883556,  0.43716326, -0.35764703, ..., -0.04463666,\n",
              "          0.38315117,  0.588798  ],\n",
              "        [ 1.2037678 ,  1.0727024 ,  0.4840874 , ...,  0.24921025,\n",
              "          0.40730858,  0.40481782],\n",
              "        ...,\n",
              "        [ 0.08630062,  0.19353887,  0.47540048, ...,  0.1888018 ,\n",
              "         -0.06474137,  0.3131858 ],\n",
              "        [ 0.15887049,  0.28572696,  0.373408  , ...,  0.09309126,\n",
              "         -0.04969583,  0.3876115 ],\n",
              "        [-0.08079858, -0.09572807,  0.26809806, ...,  0.13979636,\n",
              "         -0.06315896,  0.2728837 ]]], dtype=float32)>"
            ]
          },
          "execution_count": 14,
          "metadata": {},
          "output_type": "execute_result"
        }
      ],
      "source": [
        "bert_results['sequence_output']"
      ]
    },
    {
      "cell_type": "code",
      "execution_count": null,
      "metadata": {
        "id": "xH55JkZSMeuh",
        "outputId": "b75d5f6b-ed90-4a60-97c0-81affc9a21ad"
      },
      "outputs": [
        {
          "data": {
            "text/plain": [
              "<tf.Tensor: shape=(2, 768), dtype=float32, numpy=\n",
              "array([[-0.791774  , -0.21411924,  0.49769488, ...,  0.2446518 ,\n",
              "        -0.47334483,  0.81758696],\n",
              "       [-0.9171231 , -0.4793518 , -0.78656995, ..., -0.6175177 ,\n",
              "        -0.7102687 ,  0.92184293]], dtype=float32)>"
            ]
          },
          "execution_count": 15,
          "metadata": {},
          "output_type": "execute_result"
        }
      ],
      "source": [
        "bert_results['pooled_output']"
      ]
    },
    {
      "cell_type": "code",
      "execution_count": null,
      "metadata": {
        "scrolled": false,
        "id": "RvEXbR1eMeuh",
        "outputId": "68d6a2fb-b9fa-450b-d2a4-293127c715ba"
      },
      "outputs": [
        {
          "data": {
            "text/plain": [
              "12"
            ]
          },
          "execution_count": 16,
          "metadata": {},
          "output_type": "execute_result"
        }
      ],
      "source": [
        "len(bert_results['encoder_outputs'])"
      ]
    },
    {
      "cell_type": "markdown",
      "metadata": {
        "id": "rKyLJYrOMeuh"
      },
      "source": [
        "Since we are using BERT base model it has 12 encoder layers, that's why above the length of encoder_output is 12.\n",
        "Read more about purpose of each element here: https://tfhub.dev/tensorflow/bert_en_uncased_L-12_H-768_A-12/4"
      ]
    },
    {
      "cell_type": "markdown",
      "metadata": {
        "id": "edo8WNlcMeui"
      },
      "source": [
        "You can see below that last element of encoder_outputs is basically a sequence_output"
      ]
    },
    {
      "cell_type": "code",
      "execution_count": null,
      "metadata": {
        "id": "FCvDXlc0Meui",
        "outputId": "de50d1c0-42dd-4830-e950-4f416b5b9bc8"
      },
      "outputs": [
        {
          "data": {
            "text/plain": [
              "<tf.Tensor: shape=(2, 128, 768), dtype=bool, numpy=\n",
              "array([[[ True,  True,  True, ...,  True,  True,  True],\n",
              "        [ True,  True,  True, ...,  True,  True,  True],\n",
              "        [ True,  True,  True, ...,  True,  True,  True],\n",
              "        ...,\n",
              "        [ True,  True,  True, ...,  True,  True,  True],\n",
              "        [ True,  True,  True, ...,  True,  True,  True],\n",
              "        [ True,  True,  True, ...,  True,  True,  True]],\n",
              "\n",
              "       [[ True,  True,  True, ...,  True,  True,  True],\n",
              "        [ True,  True,  True, ...,  True,  True,  True],\n",
              "        [ True,  True,  True, ...,  True,  True,  True],\n",
              "        ...,\n",
              "        [ True,  True,  True, ...,  True,  True,  True],\n",
              "        [ True,  True,  True, ...,  True,  True,  True],\n",
              "        [ True,  True,  True, ...,  True,  True,  True]]])>"
            ]
          },
          "execution_count": 17,
          "metadata": {},
          "output_type": "execute_result"
        }
      ],
      "source": [
        "bert_results['encoder_outputs'][-1] == bert_results['sequence_output']"
      ]
    },
    {
      "cell_type": "code",
      "execution_count": null,
      "metadata": {
        "scrolled": false,
        "id": "fQnj7v3OMeuj",
        "outputId": "c3cfb4b8-1e11-460f-fae4-fe47c52b3f48"
      },
      "outputs": [
        {
          "data": {
            "text/plain": [
              "[<tf.Tensor: shape=(2, 128, 768), dtype=float32, numpy=\n",
              " array([[[ 0.12901425,  0.00644749, -0.03614946, ...,  0.04999629,\n",
              "           0.06149199, -0.02657548],\n",
              "         [ 1.1753383 ,  1.2140785 ,  1.1569982 , ...,  0.11634405,\n",
              "          -0.35855353, -0.40490192],\n",
              "         [ 0.03859054,  0.53869987, -0.21089786, ...,  0.21858189,\n",
              "           0.72601694, -1.1158607 ],\n",
              "         ...,\n",
              "         [-0.07587019, -0.25421914,  0.70755106, ...,  0.50541997,\n",
              "          -0.18878666,  0.15028352],\n",
              "         [-0.16066605, -0.2808969 ,  0.57597065, ...,  0.5275858 ,\n",
              "          -0.11141359,  0.0288756 ],\n",
              "         [-0.04428164, -0.2027959 ,  0.5909355 , ...,  0.8133832 ,\n",
              "          -0.39075807, -0.02601732]],\n",
              " \n",
              "        [[ 0.1890357 ,  0.02752566, -0.06513734, ..., -0.00620209,\n",
              "           0.15053885,  0.03165438],\n",
              "         [ 0.59161496,  0.7589142 , -0.07240665, ...,  0.6190399 ,\n",
              "           0.8292888 ,  0.16161951],\n",
              "         [ 1.4460827 ,  0.44602665,  0.40990275, ...,  0.48255897,\n",
              "           0.6269115 ,  0.13463429],\n",
              "         ...,\n",
              "         [ 0.15147886, -0.21573871,  0.70329094, ..., -0.12537216,\n",
              "          -0.13787249,  0.2772206 ],\n",
              "         [ 0.05143798, -0.24052703,  0.53569126, ..., -0.07915019,\n",
              "          -0.03307928,  0.1738091 ],\n",
              "         [ 0.20934705, -0.1564527 ,  0.60395455, ...,  0.3290355 ,\n",
              "          -0.35827166,  0.0810039 ]]], dtype=float32)>,\n",
              " <tf.Tensor: shape=(2, 128, 768), dtype=float32, numpy=\n",
              " array([[[ 0.01418131, -0.22088248, -0.15028146, ...,  0.11415625,\n",
              "           0.12618116,  0.04843395],\n",
              "         [ 1.2033907 ,  1.3469863 ,  1.7064534 , ...,  0.30610552,\n",
              "          -0.5074256 , -0.5514745 ],\n",
              "         [ 0.42169097,  0.81102455, -0.25631624, ..., -0.07722519,\n",
              "           0.893724  , -1.447206  ],\n",
              "         ...,\n",
              "         [-0.19047494, -0.23860876,  0.8141204 , ...,  0.97493625,\n",
              "          -0.3477423 , -0.0873356 ],\n",
              "         [-0.27150998, -0.31985015,  0.7659389 , ...,  0.9676174 ,\n",
              "          -0.295119  , -0.15731782],\n",
              "         [-0.2130275 , -0.1922971 ,  0.7338777 , ...,  1.1040441 ,\n",
              "          -0.45102894, -0.20683062]],\n",
              " \n",
              "        [[ 0.08973329, -0.18419679, -0.1664508 , ...,  0.02761324,\n",
              "           0.11187711,  0.08041722],\n",
              "         [ 0.58311343,  0.5957031 ,  0.3601955 , ...,  0.41270113,\n",
              "           0.26809165,  0.28400558],\n",
              "         [ 2.1166675 ,  0.517694  ,  0.86377466, ...,  0.71787316,\n",
              "           0.3240508 ,  0.09740011],\n",
              "         ...,\n",
              "         [ 0.24372883, -0.05775562,  0.68428797, ...,  0.4348356 ,\n",
              "          -0.57660955, -0.11131063],\n",
              "         [ 0.16803873, -0.03091818,  0.5863844 , ...,  0.49625814,\n",
              "          -0.5056798 , -0.20782214],\n",
              "         [ 0.24831744,  0.00315493,  0.51592547, ...,  0.80502397,\n",
              "          -0.6989963 , -0.2418645 ]]], dtype=float32)>,\n",
              " <tf.Tensor: shape=(2, 128, 768), dtype=float32, numpy=\n",
              " array([[[ 0.02275399, -0.27980262,  0.02345765, ...,  0.2786705 ,\n",
              "           0.11714804,  0.18175101],\n",
              "         [ 1.2574846 ,  0.87250787,  1.6266022 , ...,  0.4521088 ,\n",
              "          -0.80902594, -0.5448983 ],\n",
              "         [ 0.75219846,  0.6357363 , -0.20566168, ..., -0.3238182 ,\n",
              "           0.7574955 , -1.458792  ],\n",
              "         ...,\n",
              "         [-0.1510742 , -0.21129102,  0.9689462 , ...,  1.1261966 ,\n",
              "          -0.03214083, -0.22340278],\n",
              "         [-0.2812558 , -0.31140104,  0.8432894 , ...,  1.1342676 ,\n",
              "          -0.08336546, -0.2516126 ],\n",
              "         [-0.24449037, -0.215379  ,  0.9480984 , ...,  1.241942  ,\n",
              "          -0.19873466, -0.33752578]],\n",
              " \n",
              "        [[ 0.10617051, -0.27990732, -0.01731809, ...,  0.20060413,\n",
              "           0.08148402,  0.21859062],\n",
              "         [ 0.6892589 ,  0.31591517,  0.55586636, ...,  0.6903949 ,\n",
              "          -0.07141593,  0.41407183],\n",
              "         [ 2.5758884 ,  0.625209  ,  1.2503716 , ...,  0.4395773 ,\n",
              "          -0.18525599, -0.05004852],\n",
              "         ...,\n",
              "         [ 0.2046436 , -0.01562005,  0.8343147 , ...,  0.8014956 ,\n",
              "          -0.12853897, -0.35842058],\n",
              "         [-0.02875658,  0.05097827,  0.6815922 , ...,  0.9003147 ,\n",
              "          -0.12434906, -0.4225638 ],\n",
              "         [ 0.13327706,  0.02257299,  0.7722171 , ...,  1.0211185 ,\n",
              "          -0.30834687, -0.45623207]]], dtype=float32)>,\n",
              " <tf.Tensor: shape=(2, 128, 768), dtype=float32, numpy=\n",
              " array([[[ 0.11484912, -0.64441085, -0.14245078, ...,  0.25474218,\n",
              "           0.00378427,  0.6110514 ],\n",
              "         [ 1.3035429 ,  0.7706043 ,  1.3185003 , ...,  0.3582247 ,\n",
              "          -0.6412159 , -0.32795385],\n",
              "         [ 1.189674  ,  0.6279441 , -0.67501664, ..., -0.2887061 ,\n",
              "           0.4779193 , -1.2805998 ],\n",
              "         ...,\n",
              "         [-0.22614792, -0.6276296 ,  1.0227487 , ...,  0.82923126,\n",
              "          -0.4031471 ,  0.04389255],\n",
              "         [-0.39901423, -0.7561907 ,  0.7489382 , ...,  0.7492265 ,\n",
              "          -0.4507768 , -0.00367952],\n",
              "         [-0.37728718, -0.783104  ,  0.90572494, ...,  0.9736228 ,\n",
              "          -0.4828573 , -0.07389825]],\n",
              " \n",
              "        [[ 0.15151377, -0.7075228 , -0.27520463, ...,  0.44345918,\n",
              "          -0.20920427,  0.49860123],\n",
              "         [ 0.88647956, -0.24838187,  0.73537445, ...,  0.74179393,\n",
              "          -0.13177216,  0.1015849 ],\n",
              "         [ 2.5865812 ,  0.6188286 ,  0.5279882 , ...,  0.8487309 ,\n",
              "          -0.59150153,  0.02349886],\n",
              "         ...,\n",
              "         [-0.05526871, -0.4339466 ,  1.1783332 , ...,  0.91791636,\n",
              "          -0.45718166, -0.25014636],\n",
              "         [-0.29328704, -0.23091224,  0.9938007 , ...,  1.0353788 ,\n",
              "          -0.42435738, -0.34947628],\n",
              "         [-0.15899107, -0.50098157,  0.9814213 , ...,  1.1373078 ,\n",
              "          -0.61888385, -0.4445779 ]]], dtype=float32)>,\n",
              " <tf.Tensor: shape=(2, 128, 768), dtype=float32, numpy=\n",
              " array([[[-0.2217483 , -0.4222534 , -0.04924012, ..., -0.26284197,\n",
              "           0.06099971,  0.6379489 ],\n",
              "         [ 1.1627907 ,  0.6770532 ,  1.3072394 , ...,  0.22794655,\n",
              "          -0.5432949 , -0.27383307],\n",
              "         [ 1.5308232 ,  0.7222546 , -0.43608722, ...,  0.2743583 ,\n",
              "           0.24980283, -0.9875375 ],\n",
              "         ...,\n",
              "         [-0.17669769, -0.3126063 ,  1.0875314 , ...,  0.59242195,\n",
              "           0.01275288, -0.28171927],\n",
              "         [-0.34473717, -0.42430112,  0.879802  , ...,  0.54826146,\n",
              "          -0.08151911, -0.34001422],\n",
              "         [-0.48139775, -0.31324372,  1.1702341 , ...,  0.87309855,\n",
              "          -0.07970213, -0.45325497]],\n",
              " \n",
              "        [[-0.2160815 , -0.8986422 , -0.44991562, ..., -0.08286194,\n",
              "          -0.17226878,  0.6619982 ],\n",
              "         [ 0.66614556, -0.54916966,  0.46460512, ...,  0.17649382,\n",
              "           0.22822574,  0.34962195],\n",
              "         [ 2.062962  ,  0.6991985 ,  0.35604444, ...,  0.5295338 ,\n",
              "          -0.34809256,  0.00831382],\n",
              "         ...,\n",
              "         [-0.11594024, -0.17149264,  0.8994401 , ...,  0.62990123,\n",
              "          -0.33990195, -0.20049246],\n",
              "         [-0.13007557, -0.02739088,  0.7079975 , ...,  0.8059463 ,\n",
              "          -0.30724132, -0.1995634 ],\n",
              "         [-0.26314873, -0.26137084,  0.63385683, ...,  0.8150184 ,\n",
              "          -0.4540037 , -0.35120666]]], dtype=float32)>,\n",
              " <tf.Tensor: shape=(2, 128, 768), dtype=float32, numpy=\n",
              " array([[[-0.03392694, -0.39431512,  0.04223759, ..., -0.0790556 ,\n",
              "           0.01993914,  0.7692066 ],\n",
              "         [ 1.4294361 , -0.08699028,  1.5299492 , ...,  0.22512148,\n",
              "          -1.0060076 , -0.23702255],\n",
              "         [ 1.5031741 ,  0.6725791 , -0.5259025 , ...,  0.10906923,\n",
              "           0.2704243 , -1.2567499 ],\n",
              "         ...,\n",
              "         [-0.30033568, -0.02261979,  1.3187404 , ...,  0.69288784,\n",
              "          -0.09798449, -0.17419714],\n",
              "         [-0.43754095, -0.21149294,  1.109457  , ...,  0.50066054,\n",
              "          -0.17692389, -0.18529117],\n",
              "         [-0.6592039 , -0.19607994,  1.3134065 , ...,  0.7320082 ,\n",
              "          -0.19967368, -0.32469186]],\n",
              " \n",
              "        [[-0.27334678, -0.95268494, -0.7869662 , ..., -0.12205298,\n",
              "          -0.08783774,  0.75811625],\n",
              "         [ 0.46757   , -0.16237524, -0.0115591 , ...,  0.18781273,\n",
              "           0.62164736,  0.03009928],\n",
              "         [ 1.7947402 ,  0.9051077 ,  0.08580893, ...,  0.7709361 ,\n",
              "          -0.6682784 , -0.0675548 ],\n",
              "         ...,\n",
              "         [-0.18337469, -0.15806566,  1.1826948 , ...,  0.83047485,\n",
              "          -0.3940643 , -0.23047718],\n",
              "         [-0.2227019 ,  0.00975984,  0.9340841 , ...,  1.128668  ,\n",
              "          -0.34884343, -0.19491431],\n",
              "         [-0.30386138, -0.29683134,  0.8247166 , ...,  1.0090816 ,\n",
              "          -0.46407676, -0.31465578]]], dtype=float32)>,\n",
              " <tf.Tensor: shape=(2, 128, 768), dtype=float32, numpy=\n",
              " array([[[-0.23803425, -0.66554177,  0.2991721 , ...,  0.03415202,\n",
              "           0.2936285 ,  0.9653632 ],\n",
              "         [ 1.5040764 ,  0.00695128,  1.4314141 , ...,  0.24628803,\n",
              "          -0.55219656, -0.3221549 ],\n",
              "         [ 1.362903  ,  0.47741804, -0.6152993 , ...,  0.08586977,\n",
              "           0.43922484, -1.5594147 ],\n",
              "         ...,\n",
              "         [-0.16863999,  0.00209653,  1.3201766 , ...,  0.94280434,\n",
              "          -0.04737326,  0.21490407],\n",
              "         [-0.26666343, -0.24881297,  1.2213267 , ...,  0.635281  ,\n",
              "          -0.04442438,  0.04466298],\n",
              "         [-0.5336603 , -0.35796118,  1.344787  , ...,  0.60384506,\n",
              "          -0.08427176, -0.157121  ]],\n",
              " \n",
              "        [[-0.05967471, -0.84482205, -0.8939023 , ..., -0.10863847,\n",
              "           0.40932408,  0.794086  ],\n",
              "         [ 0.54405093, -0.31962943, -0.45491558, ...,  0.48068655,\n",
              "           0.77862567,  0.22774288],\n",
              "         [ 1.4479873 ,  1.1230614 ,  0.09567896, ...,  1.3554295 ,\n",
              "           0.06143576, -0.00836849],\n",
              "         ...,\n",
              "         [ 0.2565228 , -0.14106475,  1.1854348 , ...,  0.9568366 ,\n",
              "          -0.2160393 , -0.06946394],\n",
              "         [ 0.25819156,  0.07949193,  0.9851643 , ...,  1.0518225 ,\n",
              "          -0.07890907, -0.128415  ],\n",
              "         [-0.05268869, -0.3343134 ,  0.9637343 , ...,  0.8960704 ,\n",
              "          -0.10082424, -0.2812959 ]]], dtype=float32)>,\n",
              " <tf.Tensor: shape=(2, 128, 768), dtype=float32, numpy=\n",
              " array([[[-7.0826747e-02, -2.5689974e-01, -3.5962485e-02, ...,\n",
              "          -3.5881209e-01,  1.3524806e-01,  1.0136114e+00],\n",
              "         [ 9.7471899e-01, -1.9712862e-01,  1.4318084e+00, ...,\n",
              "          -1.4052060e-01, -5.0432123e-02, -2.7142027e-02],\n",
              "         [ 1.1273400e+00,  2.7122790e-01, -2.8622937e-01, ...,\n",
              "           9.3385458e-02,  2.9908311e-01, -1.3764435e+00],\n",
              "         ...,\n",
              "         [-9.5786773e-02,  2.9180759e-01,  1.5879148e+00, ...,\n",
              "           8.5004282e-01, -5.1284507e-02,  2.0340082e-01],\n",
              "         [-2.2268736e-01, -8.3895952e-02,  1.7256017e+00, ...,\n",
              "           6.1222303e-01,  1.0976561e-01,  7.0047222e-02],\n",
              "         [-5.7829899e-01, -3.5915700e-01,  1.6035969e+00, ...,\n",
              "           3.4189978e-01,  5.2881844e-02, -1.5400952e-01]],\n",
              " \n",
              "        [[ 6.1017923e-02, -3.5161677e-01, -8.4891480e-01, ...,\n",
              "          -4.8554888e-01,  4.2703065e-01,  6.3828975e-01],\n",
              "         [ 6.6376495e-01,  1.8229987e-04, -7.9078859e-01, ...,\n",
              "           3.0686966e-01,  7.5843722e-01,  7.3240143e-01],\n",
              "         [ 1.4494702e+00,  1.1265037e+00,  1.7709173e-01, ...,\n",
              "           2.3471612e-01,  3.4929511e-01,  4.3709803e-01],\n",
              "         ...,\n",
              "         [ 3.2339555e-01,  1.7575914e-01,  8.7672395e-01, ...,\n",
              "           9.8904103e-01, -2.7050799e-01, -3.0809429e-01],\n",
              "         [ 4.0404287e-01,  5.1364994e-01,  7.2748107e-01, ...,\n",
              "           9.4942153e-01, -1.0214908e-02, -3.4644267e-01],\n",
              "         [-9.1299685e-03, -8.7015972e-02,  7.3031861e-01, ...,\n",
              "           8.5439759e-01, -1.3661277e-01, -4.7493538e-01]]], dtype=float32)>,\n",
              " <tf.Tensor: shape=(2, 128, 768), dtype=float32, numpy=\n",
              " array([[[-0.09403469, -0.05987653, -0.01171679, ..., -0.22167481,\n",
              "          -0.07650117,  0.57658136],\n",
              "         [ 0.7748063 ,  0.1518831 ,  1.0920016 , ..., -0.19562437,\n",
              "           0.15173234, -0.01071449],\n",
              "         [ 0.8519131 ,  0.2584272 , -0.7703552 , ...,  0.03356653,\n",
              "           0.34010494, -1.3918676 ],\n",
              "         ...,\n",
              "         [-0.19780311,  0.52819705,  0.9023532 , ...,  0.27919745,\n",
              "          -0.28764004,  0.75109327],\n",
              "         [-0.35067317,  0.09291972,  1.3383352 , ...,  0.2261973 ,\n",
              "          -0.03588998,  0.27343997],\n",
              "         [-0.9044491 , -0.20991278,  1.1977361 , ...,  0.35118693,\n",
              "          -0.21743454,  0.01482266]],\n",
              " \n",
              "        [[-0.07011057, -0.02392533, -0.6192433 , ..., -0.14541987,\n",
              "           0.34049344,  0.41224727],\n",
              "         [ 0.5926157 ,  0.19015956, -0.3739956 , ...,  0.37239593,\n",
              "           0.3915293 ,  0.42580423],\n",
              "         [ 1.1394775 ,  0.84398603,  0.38893998, ...,  0.20898293,\n",
              "           0.25176358,  0.2640002 ],\n",
              "         ...,\n",
              "         [ 0.43306   ,  0.42012244,  1.0965106 , ...,  1.1872368 ,\n",
              "          -0.16672091,  0.00856215],\n",
              "         [ 0.57542306,  0.8660947 ,  1.1184691 , ...,  1.0475059 ,\n",
              "           0.04264343, -0.01540311],\n",
              "         [-0.0548792 , -0.07306853,  0.901222  , ...,  0.8004535 ,\n",
              "          -0.16820708, -0.3550737 ]]], dtype=float32)>,\n",
              " <tf.Tensor: shape=(2, 128, 768), dtype=float32, numpy=\n",
              " array([[[-0.22671375,  0.03110819,  0.3218609 , ..., -0.2809014 ,\n",
              "          -0.75050825,  0.4455798 ],\n",
              "         [ 0.77125525,  0.11217973,  0.6603322 , ..., -0.09223831,\n",
              "           0.3482124 , -0.3690516 ],\n",
              "         [ 0.5122408 , -0.19928965, -0.8477503 , ..., -0.2881211 ,\n",
              "           0.22383787, -1.2124597 ],\n",
              "         ...,\n",
              "         [ 0.12500736,  0.66633946,  0.9852208 , ..., -0.08709359,\n",
              "          -0.5805453 ,  0.6127232 ],\n",
              "         [ 0.01400474,  0.10471254,  1.2684819 , ..., -0.01833086,\n",
              "          -0.35933188,  0.15463208],\n",
              "         [-0.8093821 , -0.3606813 ,  1.350128  , ...,  0.5893608 ,\n",
              "          -0.5093217 , -0.09766993]],\n",
              " \n",
              "        [[-0.21534939, -0.23962246, -0.30932406, ..., -0.25964907,\n",
              "           0.09695174,  0.41826627],\n",
              "         [ 0.50700617, -0.01544808, -0.10519649, ...,  0.38675267,\n",
              "           0.22041193, -0.10293254],\n",
              "         [ 1.0366058 ,  0.9171315 ,  0.26164216, ...,  0.33182117,\n",
              "           0.4559701 ,  0.1269788 ],\n",
              "         ...,\n",
              "         [ 0.16190636,  0.76270264,  1.273768  , ...,  0.57260054,\n",
              "          -0.05929537,  0.26224107],\n",
              "         [ 0.46124512,  1.1673878 ,  0.9594775 , ...,  0.46033052,\n",
              "           0.13521405,  0.4513607 ],\n",
              "         [-0.24183989,  0.17352833,  0.8415647 , ...,  0.24766903,\n",
              "          -0.14810342,  0.06557457]]], dtype=float32)>,\n",
              " <tf.Tensor: shape=(2, 128, 768), dtype=float32, numpy=\n",
              " array([[[-2.19522044e-02,  2.13035598e-01,  3.11359406e-01, ...,\n",
              "          -2.39179075e-01, -2.78708607e-01,  2.04084888e-01],\n",
              "         [ 8.30984175e-01,  1.90781176e-01,  7.11346030e-01, ...,\n",
              "          -3.00244600e-01,  3.11525255e-01, -2.59340733e-01],\n",
              "         [ 3.73089671e-01, -4.22126234e-01, -6.66908681e-01, ...,\n",
              "          -4.52976614e-01,  3.20452750e-01, -2.99885243e-01],\n",
              "         ...,\n",
              "         [ 3.31665605e-01,  7.18357861e-01,  8.99610221e-01, ...,\n",
              "          -3.49144906e-01, -2.99868882e-01,  5.23887873e-01],\n",
              "         [ 2.38533929e-01,  2.04844743e-01,  1.13064253e+00, ...,\n",
              "          -1.51129961e-01, -1.37810916e-01,  7.69993141e-02],\n",
              "         [-3.84118825e-01, -3.81587178e-01,  1.33972895e+00, ...,\n",
              "           5.77555180e-01, -1.55398563e-01, -2.92945951e-01]],\n",
              " \n",
              "        [[ 1.43630832e-01,  1.69801652e-01,  4.51198295e-02, ...,\n",
              "          -6.21673279e-02, -1.57534312e-02,  2.87869871e-01],\n",
              "         [ 5.84760249e-01,  2.69933075e-01, -2.85206795e-01, ...,\n",
              "           3.38930964e-01,  1.17773235e-01,  3.69864032e-02],\n",
              "         [ 1.25257993e+00,  1.25564480e+00,  3.87543976e-01, ...,\n",
              "           1.72757044e-01,  4.96662259e-01,  6.13781393e-01],\n",
              "         ...,\n",
              "         [ 1.95486635e-01,  4.40820843e-01,  1.03893721e+00, ...,\n",
              "           1.45270735e-01, -2.77439207e-01,  1.90322071e-01],\n",
              "         [ 4.48164970e-01,  7.64477909e-01,  6.98005378e-01, ...,\n",
              "          -8.35609622e-04, -7.96449929e-02,  4.93359417e-01],\n",
              "         [-2.33980551e-01, -2.03335062e-01,  3.48247796e-01, ...,\n",
              "          -6.43417686e-02, -3.20876807e-01,  2.23351195e-02]]],\n",
              "       dtype=float32)>,\n",
              " <tf.Tensor: shape=(2, 128, 768), dtype=float32, numpy=\n",
              " array([[[ 0.07292037,  0.08567802,  0.14476836, ..., -0.0967709 ,\n",
              "           0.08722147,  0.07711098],\n",
              "         [ 0.17839421, -0.19006097,  0.5034945 , ..., -0.0586979 ,\n",
              "           0.32717168, -0.1557853 ],\n",
              "         [ 0.187015  , -0.4338879 , -0.4887509 , ..., -0.15502754,\n",
              "           0.00145202, -0.24470882],\n",
              "         ...,\n",
              "         [ 0.1208308 ,  0.12884231,  0.464535  , ...,  0.07375526,\n",
              "           0.17441988,  0.16522081],\n",
              "         [ 0.07967911, -0.01190642,  0.50225425, ...,  0.13777754,\n",
              "           0.21002221,  0.0062458 ],\n",
              "         [-0.07212636, -0.28303444,  0.5903337 , ...,  0.47551885,\n",
              "           0.16668531, -0.08920398]],\n",
              " \n",
              "        [[-0.0790057 ,  0.36335146, -0.21101563, ..., -0.1718371 ,\n",
              "           0.1629976 ,  0.6724266 ],\n",
              "         [ 0.27883556,  0.43716326, -0.35764703, ..., -0.04463666,\n",
              "           0.38315117,  0.588798  ],\n",
              "         [ 1.2037678 ,  1.0727024 ,  0.4840874 , ...,  0.24921025,\n",
              "           0.40730858,  0.40481782],\n",
              "         ...,\n",
              "         [ 0.08630062,  0.19353887,  0.47540048, ...,  0.1888018 ,\n",
              "          -0.06474137,  0.3131858 ],\n",
              "         [ 0.15887049,  0.28572696,  0.373408  , ...,  0.09309126,\n",
              "          -0.04969583,  0.3876115 ],\n",
              "         [-0.08079858, -0.09572807,  0.26809806, ...,  0.13979636,\n",
              "          -0.06315896,  0.2728837 ]]], dtype=float32)>]"
            ]
          },
          "execution_count": 18,
          "metadata": {},
          "output_type": "execute_result"
        }
      ],
      "source": [
        "bert_results['encoder_outputs']"
      ]
    },
    {
      "cell_type": "markdown",
      "source": [
        "# Huggingface"
      ],
      "metadata": {
        "id": "lizEl8HDOK_0"
      }
    },
    {
      "cell_type": "code",
      "source": [
        "!pip install transformers"
      ],
      "metadata": {
        "colab": {
          "base_uri": "https://localhost:8080/"
        },
        "id": "axo8FQ1bObwc",
        "outputId": "13c322d4-d12b-480f-bf4f-337c2070e1a6"
      },
      "execution_count": null,
      "outputs": [
        {
          "output_type": "stream",
          "name": "stdout",
          "text": [
            "Collecting transformers\n",
            "  Downloading transformers-4.17.0-py3-none-any.whl (3.8 MB)\n",
            "\u001b[K     |████████████████████████████████| 3.8 MB 5.3 MB/s \n",
            "\u001b[?25hCollecting tokenizers!=0.11.3,>=0.11.1\n",
            "  Downloading tokenizers-0.11.6-cp37-cp37m-manylinux_2_12_x86_64.manylinux2010_x86_64.whl (6.5 MB)\n",
            "\u001b[K     |████████████████████████████████| 6.5 MB 34.4 MB/s \n",
            "\u001b[?25hCollecting sacremoses\n",
            "  Downloading sacremoses-0.0.47-py2.py3-none-any.whl (895 kB)\n",
            "\u001b[K     |████████████████████████████████| 895 kB 45.7 MB/s \n",
            "\u001b[?25hCollecting huggingface-hub<1.0,>=0.1.0\n",
            "  Downloading huggingface_hub-0.4.0-py3-none-any.whl (67 kB)\n",
            "\u001b[K     |████████████████████████████████| 67 kB 5.5 MB/s \n",
            "\u001b[?25hRequirement already satisfied: importlib-metadata in /usr/local/lib/python3.7/dist-packages (from transformers) (4.11.2)\n",
            "Requirement already satisfied: packaging>=20.0 in /usr/local/lib/python3.7/dist-packages (from transformers) (21.3)\n",
            "Requirement already satisfied: filelock in /usr/local/lib/python3.7/dist-packages (from transformers) (3.6.0)\n",
            "Collecting pyyaml>=5.1\n",
            "  Downloading PyYAML-6.0-cp37-cp37m-manylinux_2_5_x86_64.manylinux1_x86_64.manylinux_2_12_x86_64.manylinux2010_x86_64.whl (596 kB)\n",
            "\u001b[K     |████████████████████████████████| 596 kB 51.1 MB/s \n",
            "\u001b[?25hRequirement already satisfied: numpy>=1.17 in /usr/local/lib/python3.7/dist-packages (from transformers) (1.21.5)\n",
            "Requirement already satisfied: regex!=2019.12.17 in /usr/local/lib/python3.7/dist-packages (from transformers) (2019.12.20)\n",
            "Requirement already satisfied: tqdm>=4.27 in /usr/local/lib/python3.7/dist-packages (from transformers) (4.63.0)\n",
            "Requirement already satisfied: requests in /usr/local/lib/python3.7/dist-packages (from transformers) (2.23.0)\n",
            "Requirement already satisfied: typing-extensions>=3.7.4.3 in /usr/local/lib/python3.7/dist-packages (from huggingface-hub<1.0,>=0.1.0->transformers) (3.10.0.2)\n",
            "Requirement already satisfied: pyparsing!=3.0.5,>=2.0.2 in /usr/local/lib/python3.7/dist-packages (from packaging>=20.0->transformers) (3.0.7)\n",
            "Requirement already satisfied: zipp>=0.5 in /usr/local/lib/python3.7/dist-packages (from importlib-metadata->transformers) (3.7.0)\n",
            "Requirement already satisfied: urllib3!=1.25.0,!=1.25.1,<1.26,>=1.21.1 in /usr/local/lib/python3.7/dist-packages (from requests->transformers) (1.24.3)\n",
            "Requirement already satisfied: certifi>=2017.4.17 in /usr/local/lib/python3.7/dist-packages (from requests->transformers) (2021.10.8)\n",
            "Requirement already satisfied: chardet<4,>=3.0.2 in /usr/local/lib/python3.7/dist-packages (from requests->transformers) (3.0.4)\n",
            "Requirement already satisfied: idna<3,>=2.5 in /usr/local/lib/python3.7/dist-packages (from requests->transformers) (2.10)\n",
            "Requirement already satisfied: joblib in /usr/local/lib/python3.7/dist-packages (from sacremoses->transformers) (1.1.0)\n",
            "Requirement already satisfied: six in /usr/local/lib/python3.7/dist-packages (from sacremoses->transformers) (1.15.0)\n",
            "Requirement already satisfied: click in /usr/local/lib/python3.7/dist-packages (from sacremoses->transformers) (7.1.2)\n",
            "Installing collected packages: pyyaml, tokenizers, sacremoses, huggingface-hub, transformers\n",
            "  Attempting uninstall: pyyaml\n",
            "    Found existing installation: PyYAML 3.13\n",
            "    Uninstalling PyYAML-3.13:\n",
            "      Successfully uninstalled PyYAML-3.13\n",
            "Successfully installed huggingface-hub-0.4.0 pyyaml-6.0 sacremoses-0.0.47 tokenizers-0.11.6 transformers-4.17.0\n"
          ]
        }
      ]
    },
    {
      "cell_type": "code",
      "source": [
        "# Import tokenizer from transformers package\n",
        "from transformers import BertTokenizer\n",
        "\n"
      ],
      "metadata": {
        "id": "vS7jFoA2OM23"
      },
      "execution_count": null,
      "outputs": []
    },
    {
      "cell_type": "code",
      "source": [
        "# Load the tokenizer of the \"bert-base-cased\" pretrained model\n",
        "# See https://huggingface.co/transformers/pretrained_models.html for other models\n",
        "tz = BertTokenizer.from_pretrained(\"bert-base-cased\")\n",
        "\n"
      ],
      "metadata": {
        "colab": {
          "base_uri": "https://localhost:8080/",
          "height": 113,
          "referenced_widgets": [
            "08cddd72d60e4df9877ab0fa5131c145",
            "d9b9628fa063426ea7dfc38426e6250e",
            "cca7f07377bd43a7950bf1a36d5cdf99",
            "e6ba7ba3807741d6b769aa24746810e1",
            "808f7779709b4008870f8a6bed155d56",
            "d7a2215dc6dd469bbf119b52d2ef4966",
            "e671602313a1442f9a48ed2f3c2b7f19",
            "d5b73f6b120c4f0e806f27c1ece20064",
            "3085474cbd5a43a7ab52860a696d1475",
            "b50144c0d3e446d79f9d235d4a4c7cd3",
            "0ef29b8b73774f62a7708027830af8d9",
            "17bd9bfb984a4f42b8f7e99ab7093073",
            "e89aff4de4434694b3633e536fd09fdf",
            "4b9871d24bd44eac8ad8531f342abdb3",
            "dcd994c07a914d91b1b63b05fedf1096",
            "dd89c71c1c1e48a7b82c6fd3fcf29fd0",
            "84d061b0f05949d5829b710678584b10",
            "9a46413c014e4790b0a6f984261a6f7f",
            "9b0ff122922640c4a5541809cde0abaa",
            "3ebdc961b01c434589fb44218d6ba015",
            "b0bdfff91d0743e294287c20d118a4be",
            "5c04044b3e9e4b7dad9952dbf99bd9e3",
            "22d30e2712824ca994d774af6161e4cc",
            "47dc1a3497df4683905647d4cffd6af1",
            "fd4cce3e6c164d1e862ed54eb7e05944",
            "9cc6c56b494f462c8439bd83295476b1",
            "7a016a7390634937aa24bd0da0dc4bec",
            "73f93c19647b4c94a980a45c30e2acc0",
            "a24e04566bd44d788099fd1e42a8ac45",
            "936f3a8fe6af4efbadc3539de2d2d067",
            "285bed848e104dc78d125d298f1ae270",
            "26dae79a9df448d8a9c02891d8e8477e",
            "0f9432197a7c4c13b2052d29d949a4e0"
          ]
        },
        "id": "ERH4K2tTOmYs",
        "outputId": "4961d7cb-f289-4a12-9c7e-df53c6a5f3f6"
      },
      "execution_count": null,
      "outputs": [
        {
          "output_type": "display_data",
          "data": {
            "application/vnd.jupyter.widget-view+json": {
              "model_id": "08cddd72d60e4df9877ab0fa5131c145",
              "version_minor": 0,
              "version_major": 2
            },
            "text/plain": [
              "Downloading:   0%|          | 0.00/208k [00:00<?, ?B/s]"
            ]
          },
          "metadata": {}
        },
        {
          "output_type": "display_data",
          "data": {
            "application/vnd.jupyter.widget-view+json": {
              "model_id": "17bd9bfb984a4f42b8f7e99ab7093073",
              "version_minor": 0,
              "version_major": 2
            },
            "text/plain": [
              "Downloading:   0%|          | 0.00/29.0 [00:00<?, ?B/s]"
            ]
          },
          "metadata": {}
        },
        {
          "output_type": "display_data",
          "data": {
            "application/vnd.jupyter.widget-view+json": {
              "model_id": "22d30e2712824ca994d774af6161e4cc",
              "version_minor": 0,
              "version_major": 2
            },
            "text/plain": [
              "Downloading:   0%|          | 0.00/570 [00:00<?, ?B/s]"
            ]
          },
          "metadata": {}
        }
      ]
    },
    {
      "cell_type": "code",
      "source": [
        "# The senetence to be encoded\n",
        "sent = \"Let's learn deep learning!\"\n",
        "\n",
        "# Encode the sentence\n",
        "encoded = tz.encode_plus(\n",
        "    text=sent,  # the sentence to be encoded\n",
        "    add_special_tokens=True,  # Add [CLS] and [SEP]\n",
        "    max_length = 64,  # maximum length of a sentence\n",
        "    pad_to_max_length=True,  # Add [PAD]s\n",
        "    return_attention_mask = True,  # Generate the attention mask\n",
        "    return_tensors = 'pt',  # ask the function to return PyTorch tensors\n",
        ")\n"
      ],
      "metadata": {
        "colab": {
          "base_uri": "https://localhost:8080/"
        },
        "id": "R8D4fcY-OrCq",
        "outputId": "acbcea78-4b14-434c-8271-15afe1e40a5a"
      },
      "execution_count": null,
      "outputs": [
        {
          "output_type": "stream",
          "name": "stderr",
          "text": [
            "Truncation was not explicitly activated but `max_length` is provided a specific value, please use `truncation=True` to explicitly truncate examples to max length. Defaulting to 'longest_first' truncation strategy. If you encode pairs of sequences (GLUE-style) with the tokenizer you can select this strategy more precisely by providing a specific strategy to `truncation`.\n",
            "/usr/local/lib/python3.7/dist-packages/transformers/tokenization_utils_base.py:2277: FutureWarning: The `pad_to_max_length` argument is deprecated and will be removed in a future version, use `padding=True` or `padding='longest'` to pad to the longest sequence in the batch, or use `padding='max_length'` to pad to a max length. In this case, you can give a specific length with `max_length` (e.g. `max_length=45`) or leave max_length to None to pad to the maximal input size of the model (e.g. 512 for Bert).\n",
            "  FutureWarning,\n"
          ]
        }
      ]
    },
    {
      "cell_type": "code",
      "source": [
        "print(encoded.keys)"
      ],
      "metadata": {
        "colab": {
          "base_uri": "https://localhost:8080/"
        },
        "id": "-oq7Ye6FOy2C",
        "outputId": "a40db5e9-d110-4b40-9b98-295ae59fab99"
      },
      "execution_count": null,
      "outputs": [
        {
          "output_type": "stream",
          "name": "stdout",
          "text": [
            "<bound method BatchEncoding.keys of {'input_ids': tensor([[ 101, 2421,  112,  188, 3858, 1996, 3776,  106,  102,    0,    0,    0,\n",
            "            0,    0,    0,    0,    0,    0,    0,    0,    0,    0,    0,    0,\n",
            "            0,    0,    0,    0,    0,    0,    0,    0,    0,    0,    0,    0,\n",
            "            0,    0,    0,    0,    0,    0,    0,    0,    0,    0,    0,    0,\n",
            "            0,    0,    0,    0,    0,    0,    0,    0,    0,    0,    0,    0,\n",
            "            0,    0,    0,    0]]), 'token_type_ids': tensor([[0, 0, 0, 0, 0, 0, 0, 0, 0, 0, 0, 0, 0, 0, 0, 0, 0, 0, 0, 0, 0, 0, 0, 0,\n",
            "         0, 0, 0, 0, 0, 0, 0, 0, 0, 0, 0, 0, 0, 0, 0, 0, 0, 0, 0, 0, 0, 0, 0, 0,\n",
            "         0, 0, 0, 0, 0, 0, 0, 0, 0, 0, 0, 0, 0, 0, 0, 0]]), 'attention_mask': tensor([[1, 1, 1, 1, 1, 1, 1, 1, 1, 0, 0, 0, 0, 0, 0, 0, 0, 0, 0, 0, 0, 0, 0, 0,\n",
            "         0, 0, 0, 0, 0, 0, 0, 0, 0, 0, 0, 0, 0, 0, 0, 0, 0, 0, 0, 0, 0, 0, 0, 0,\n",
            "         0, 0, 0, 0, 0, 0, 0, 0, 0, 0, 0, 0, 0, 0, 0, 0]])}>\n"
          ]
        }
      ]
    },
    {
      "cell_type": "code",
      "source": [
        "# Get the input IDs and attention mask in tensor format\n",
        "input_ids = encoded['input_ids']\n",
        "attn_mask = encoded['attention_mask']"
      ],
      "metadata": {
        "id": "hTFtoLEDOxEw"
      },
      "execution_count": null,
      "outputs": []
    },
    {
      "cell_type": "code",
      "source": [
        "input_ids 101, 2292, 1005, 1055, 4553, 2784, 4083,  999,  102, "
      ],
      "metadata": {
        "colab": {
          "base_uri": "https://localhost:8080/"
        },
        "id": "SsmGc9T2O9nW",
        "outputId": "6be88375-7981-40e9-a261-3c4a113e4769"
      },
      "execution_count": null,
      "outputs": [
        {
          "output_type": "execute_result",
          "data": {
            "text/plain": [
              "tensor([[ 101, 2421,  112,  188, 3858, 1996, 3776,  106,  102,    0,    0,    0,\n",
              "            0,    0,    0,    0,    0,    0,    0,    0,    0,    0,    0,    0,\n",
              "            0,    0,    0,    0,    0,    0,    0,    0,    0,    0,    0,    0,\n",
              "            0,    0,    0,    0,    0,    0,    0,    0,    0,    0,    0,    0,\n",
              "            0,    0,    0,    0,    0,    0,    0,    0,    0,    0,    0,    0,\n",
              "            0,    0,    0,    0]])"
            ]
          },
          "metadata": {},
          "execution_count": 9
        }
      ]
    },
    {
      "cell_type": "code",
      "source": [
        "attn_mask"
      ],
      "metadata": {
        "colab": {
          "base_uri": "https://localhost:8080/"
        },
        "id": "pxfV-fjSO_I9",
        "outputId": "6b891ef6-5fb1-43ad-9469-e7d25a8c40f7"
      },
      "execution_count": null,
      "outputs": [
        {
          "output_type": "execute_result",
          "data": {
            "text/plain": [
              "tensor([[1, 1, 1, 1, 1, 1, 1, 1, 1, 0, 0, 0, 0, 0, 0, 0, 0, 0, 0, 0, 0, 0, 0, 0,\n",
              "         0, 0, 0, 0, 0, 0, 0, 0, 0, 0, 0, 0, 0, 0, 0, 0, 0, 0, 0, 0, 0, 0, 0, 0,\n",
              "         0, 0, 0, 0, 0, 0, 0, 0, 0, 0, 0, 0, 0, 0, 0, 0]])"
            ]
          },
          "metadata": {},
          "execution_count": 10
        }
      ]
    },
    {
      "cell_type": "code",
      "source": [
        ""
      ],
      "metadata": {
        "id": "kAheVEBSPLyp"
      },
      "execution_count": null,
      "outputs": []
    }
  ],
  "metadata": {
    "kernelspec": {
      "display_name": "Python 3",
      "language": "python",
      "name": "python3"
    },
    "language_info": {
      "codemirror_mode": {
        "name": "ipython",
        "version": 3
      },
      "file_extension": ".py",
      "mimetype": "text/x-python",
      "name": "python",
      "nbconvert_exporter": "python",
      "pygments_lexer": "ipython3",
      "version": "3.8.5"
    },
    "colab": {
      "name": "bert_intro.ipynb",
      "provenance": [],
      "toc_visible": true,
      "include_colab_link": true
    },
    "accelerator": "GPU",
    "widgets": {
      "application/vnd.jupyter.widget-state+json": {
        "08cddd72d60e4df9877ab0fa5131c145": {
          "model_module": "@jupyter-widgets/controls",
          "model_name": "HBoxModel",
          "model_module_version": "1.5.0",
          "state": {
            "_view_name": "HBoxView",
            "_dom_classes": [],
            "_model_name": "HBoxModel",
            "_view_module": "@jupyter-widgets/controls",
            "_model_module_version": "1.5.0",
            "_view_count": null,
            "_view_module_version": "1.5.0",
            "box_style": "",
            "layout": "IPY_MODEL_d9b9628fa063426ea7dfc38426e6250e",
            "_model_module": "@jupyter-widgets/controls",
            "children": [
              "IPY_MODEL_cca7f07377bd43a7950bf1a36d5cdf99",
              "IPY_MODEL_e6ba7ba3807741d6b769aa24746810e1",
              "IPY_MODEL_808f7779709b4008870f8a6bed155d56"
            ]
          }
        },
        "d9b9628fa063426ea7dfc38426e6250e": {
          "model_module": "@jupyter-widgets/base",
          "model_name": "LayoutModel",
          "model_module_version": "1.2.0",
          "state": {
            "_view_name": "LayoutView",
            "grid_template_rows": null,
            "right": null,
            "justify_content": null,
            "_view_module": "@jupyter-widgets/base",
            "overflow": null,
            "_model_module_version": "1.2.0",
            "_view_count": null,
            "flex_flow": null,
            "width": null,
            "min_width": null,
            "border": null,
            "align_items": null,
            "bottom": null,
            "_model_module": "@jupyter-widgets/base",
            "top": null,
            "grid_column": null,
            "overflow_y": null,
            "overflow_x": null,
            "grid_auto_flow": null,
            "grid_area": null,
            "grid_template_columns": null,
            "flex": null,
            "_model_name": "LayoutModel",
            "justify_items": null,
            "grid_row": null,
            "max_height": null,
            "align_content": null,
            "visibility": null,
            "align_self": null,
            "height": null,
            "min_height": null,
            "padding": null,
            "grid_auto_rows": null,
            "grid_gap": null,
            "max_width": null,
            "order": null,
            "_view_module_version": "1.2.0",
            "grid_template_areas": null,
            "object_position": null,
            "object_fit": null,
            "grid_auto_columns": null,
            "margin": null,
            "display": null,
            "left": null
          }
        },
        "cca7f07377bd43a7950bf1a36d5cdf99": {
          "model_module": "@jupyter-widgets/controls",
          "model_name": "HTMLModel",
          "model_module_version": "1.5.0",
          "state": {
            "_view_name": "HTMLView",
            "style": "IPY_MODEL_d7a2215dc6dd469bbf119b52d2ef4966",
            "_dom_classes": [],
            "description": "",
            "_model_name": "HTMLModel",
            "placeholder": "​",
            "_view_module": "@jupyter-widgets/controls",
            "_model_module_version": "1.5.0",
            "value": "Downloading: 100%",
            "_view_count": null,
            "_view_module_version": "1.5.0",
            "description_tooltip": null,
            "_model_module": "@jupyter-widgets/controls",
            "layout": "IPY_MODEL_e671602313a1442f9a48ed2f3c2b7f19"
          }
        },
        "e6ba7ba3807741d6b769aa24746810e1": {
          "model_module": "@jupyter-widgets/controls",
          "model_name": "FloatProgressModel",
          "model_module_version": "1.5.0",
          "state": {
            "_view_name": "ProgressView",
            "style": "IPY_MODEL_d5b73f6b120c4f0e806f27c1ece20064",
            "_dom_classes": [],
            "description": "",
            "_model_name": "FloatProgressModel",
            "bar_style": "success",
            "max": 213450,
            "_view_module": "@jupyter-widgets/controls",
            "_model_module_version": "1.5.0",
            "value": 213450,
            "_view_count": null,
            "_view_module_version": "1.5.0",
            "orientation": "horizontal",
            "min": 0,
            "description_tooltip": null,
            "_model_module": "@jupyter-widgets/controls",
            "layout": "IPY_MODEL_3085474cbd5a43a7ab52860a696d1475"
          }
        },
        "808f7779709b4008870f8a6bed155d56": {
          "model_module": "@jupyter-widgets/controls",
          "model_name": "HTMLModel",
          "model_module_version": "1.5.0",
          "state": {
            "_view_name": "HTMLView",
            "style": "IPY_MODEL_b50144c0d3e446d79f9d235d4a4c7cd3",
            "_dom_classes": [],
            "description": "",
            "_model_name": "HTMLModel",
            "placeholder": "​",
            "_view_module": "@jupyter-widgets/controls",
            "_model_module_version": "1.5.0",
            "value": " 208k/208k [00:00&lt;00:00, 1.07MB/s]",
            "_view_count": null,
            "_view_module_version": "1.5.0",
            "description_tooltip": null,
            "_model_module": "@jupyter-widgets/controls",
            "layout": "IPY_MODEL_0ef29b8b73774f62a7708027830af8d9"
          }
        },
        "d7a2215dc6dd469bbf119b52d2ef4966": {
          "model_module": "@jupyter-widgets/controls",
          "model_name": "DescriptionStyleModel",
          "model_module_version": "1.5.0",
          "state": {
            "_view_name": "StyleView",
            "_model_name": "DescriptionStyleModel",
            "description_width": "",
            "_view_module": "@jupyter-widgets/base",
            "_model_module_version": "1.5.0",
            "_view_count": null,
            "_view_module_version": "1.2.0",
            "_model_module": "@jupyter-widgets/controls"
          }
        },
        "e671602313a1442f9a48ed2f3c2b7f19": {
          "model_module": "@jupyter-widgets/base",
          "model_name": "LayoutModel",
          "model_module_version": "1.2.0",
          "state": {
            "_view_name": "LayoutView",
            "grid_template_rows": null,
            "right": null,
            "justify_content": null,
            "_view_module": "@jupyter-widgets/base",
            "overflow": null,
            "_model_module_version": "1.2.0",
            "_view_count": null,
            "flex_flow": null,
            "width": null,
            "min_width": null,
            "border": null,
            "align_items": null,
            "bottom": null,
            "_model_module": "@jupyter-widgets/base",
            "top": null,
            "grid_column": null,
            "overflow_y": null,
            "overflow_x": null,
            "grid_auto_flow": null,
            "grid_area": null,
            "grid_template_columns": null,
            "flex": null,
            "_model_name": "LayoutModel",
            "justify_items": null,
            "grid_row": null,
            "max_height": null,
            "align_content": null,
            "visibility": null,
            "align_self": null,
            "height": null,
            "min_height": null,
            "padding": null,
            "grid_auto_rows": null,
            "grid_gap": null,
            "max_width": null,
            "order": null,
            "_view_module_version": "1.2.0",
            "grid_template_areas": null,
            "object_position": null,
            "object_fit": null,
            "grid_auto_columns": null,
            "margin": null,
            "display": null,
            "left": null
          }
        },
        "d5b73f6b120c4f0e806f27c1ece20064": {
          "model_module": "@jupyter-widgets/controls",
          "model_name": "ProgressStyleModel",
          "model_module_version": "1.5.0",
          "state": {
            "_view_name": "StyleView",
            "_model_name": "ProgressStyleModel",
            "description_width": "",
            "_view_module": "@jupyter-widgets/base",
            "_model_module_version": "1.5.0",
            "_view_count": null,
            "_view_module_version": "1.2.0",
            "bar_color": null,
            "_model_module": "@jupyter-widgets/controls"
          }
        },
        "3085474cbd5a43a7ab52860a696d1475": {
          "model_module": "@jupyter-widgets/base",
          "model_name": "LayoutModel",
          "model_module_version": "1.2.0",
          "state": {
            "_view_name": "LayoutView",
            "grid_template_rows": null,
            "right": null,
            "justify_content": null,
            "_view_module": "@jupyter-widgets/base",
            "overflow": null,
            "_model_module_version": "1.2.0",
            "_view_count": null,
            "flex_flow": null,
            "width": null,
            "min_width": null,
            "border": null,
            "align_items": null,
            "bottom": null,
            "_model_module": "@jupyter-widgets/base",
            "top": null,
            "grid_column": null,
            "overflow_y": null,
            "overflow_x": null,
            "grid_auto_flow": null,
            "grid_area": null,
            "grid_template_columns": null,
            "flex": null,
            "_model_name": "LayoutModel",
            "justify_items": null,
            "grid_row": null,
            "max_height": null,
            "align_content": null,
            "visibility": null,
            "align_self": null,
            "height": null,
            "min_height": null,
            "padding": null,
            "grid_auto_rows": null,
            "grid_gap": null,
            "max_width": null,
            "order": null,
            "_view_module_version": "1.2.0",
            "grid_template_areas": null,
            "object_position": null,
            "object_fit": null,
            "grid_auto_columns": null,
            "margin": null,
            "display": null,
            "left": null
          }
        },
        "b50144c0d3e446d79f9d235d4a4c7cd3": {
          "model_module": "@jupyter-widgets/controls",
          "model_name": "DescriptionStyleModel",
          "model_module_version": "1.5.0",
          "state": {
            "_view_name": "StyleView",
            "_model_name": "DescriptionStyleModel",
            "description_width": "",
            "_view_module": "@jupyter-widgets/base",
            "_model_module_version": "1.5.0",
            "_view_count": null,
            "_view_module_version": "1.2.0",
            "_model_module": "@jupyter-widgets/controls"
          }
        },
        "0ef29b8b73774f62a7708027830af8d9": {
          "model_module": "@jupyter-widgets/base",
          "model_name": "LayoutModel",
          "model_module_version": "1.2.0",
          "state": {
            "_view_name": "LayoutView",
            "grid_template_rows": null,
            "right": null,
            "justify_content": null,
            "_view_module": "@jupyter-widgets/base",
            "overflow": null,
            "_model_module_version": "1.2.0",
            "_view_count": null,
            "flex_flow": null,
            "width": null,
            "min_width": null,
            "border": null,
            "align_items": null,
            "bottom": null,
            "_model_module": "@jupyter-widgets/base",
            "top": null,
            "grid_column": null,
            "overflow_y": null,
            "overflow_x": null,
            "grid_auto_flow": null,
            "grid_area": null,
            "grid_template_columns": null,
            "flex": null,
            "_model_name": "LayoutModel",
            "justify_items": null,
            "grid_row": null,
            "max_height": null,
            "align_content": null,
            "visibility": null,
            "align_self": null,
            "height": null,
            "min_height": null,
            "padding": null,
            "grid_auto_rows": null,
            "grid_gap": null,
            "max_width": null,
            "order": null,
            "_view_module_version": "1.2.0",
            "grid_template_areas": null,
            "object_position": null,
            "object_fit": null,
            "grid_auto_columns": null,
            "margin": null,
            "display": null,
            "left": null
          }
        },
        "17bd9bfb984a4f42b8f7e99ab7093073": {
          "model_module": "@jupyter-widgets/controls",
          "model_name": "HBoxModel",
          "model_module_version": "1.5.0",
          "state": {
            "_view_name": "HBoxView",
            "_dom_classes": [],
            "_model_name": "HBoxModel",
            "_view_module": "@jupyter-widgets/controls",
            "_model_module_version": "1.5.0",
            "_view_count": null,
            "_view_module_version": "1.5.0",
            "box_style": "",
            "layout": "IPY_MODEL_e89aff4de4434694b3633e536fd09fdf",
            "_model_module": "@jupyter-widgets/controls",
            "children": [
              "IPY_MODEL_4b9871d24bd44eac8ad8531f342abdb3",
              "IPY_MODEL_dcd994c07a914d91b1b63b05fedf1096",
              "IPY_MODEL_dd89c71c1c1e48a7b82c6fd3fcf29fd0"
            ]
          }
        },
        "e89aff4de4434694b3633e536fd09fdf": {
          "model_module": "@jupyter-widgets/base",
          "model_name": "LayoutModel",
          "model_module_version": "1.2.0",
          "state": {
            "_view_name": "LayoutView",
            "grid_template_rows": null,
            "right": null,
            "justify_content": null,
            "_view_module": "@jupyter-widgets/base",
            "overflow": null,
            "_model_module_version": "1.2.0",
            "_view_count": null,
            "flex_flow": null,
            "width": null,
            "min_width": null,
            "border": null,
            "align_items": null,
            "bottom": null,
            "_model_module": "@jupyter-widgets/base",
            "top": null,
            "grid_column": null,
            "overflow_y": null,
            "overflow_x": null,
            "grid_auto_flow": null,
            "grid_area": null,
            "grid_template_columns": null,
            "flex": null,
            "_model_name": "LayoutModel",
            "justify_items": null,
            "grid_row": null,
            "max_height": null,
            "align_content": null,
            "visibility": null,
            "align_self": null,
            "height": null,
            "min_height": null,
            "padding": null,
            "grid_auto_rows": null,
            "grid_gap": null,
            "max_width": null,
            "order": null,
            "_view_module_version": "1.2.0",
            "grid_template_areas": null,
            "object_position": null,
            "object_fit": null,
            "grid_auto_columns": null,
            "margin": null,
            "display": null,
            "left": null
          }
        },
        "4b9871d24bd44eac8ad8531f342abdb3": {
          "model_module": "@jupyter-widgets/controls",
          "model_name": "HTMLModel",
          "model_module_version": "1.5.0",
          "state": {
            "_view_name": "HTMLView",
            "style": "IPY_MODEL_84d061b0f05949d5829b710678584b10",
            "_dom_classes": [],
            "description": "",
            "_model_name": "HTMLModel",
            "placeholder": "​",
            "_view_module": "@jupyter-widgets/controls",
            "_model_module_version": "1.5.0",
            "value": "Downloading: 100%",
            "_view_count": null,
            "_view_module_version": "1.5.0",
            "description_tooltip": null,
            "_model_module": "@jupyter-widgets/controls",
            "layout": "IPY_MODEL_9a46413c014e4790b0a6f984261a6f7f"
          }
        },
        "dcd994c07a914d91b1b63b05fedf1096": {
          "model_module": "@jupyter-widgets/controls",
          "model_name": "FloatProgressModel",
          "model_module_version": "1.5.0",
          "state": {
            "_view_name": "ProgressView",
            "style": "IPY_MODEL_9b0ff122922640c4a5541809cde0abaa",
            "_dom_classes": [],
            "description": "",
            "_model_name": "FloatProgressModel",
            "bar_style": "success",
            "max": 29,
            "_view_module": "@jupyter-widgets/controls",
            "_model_module_version": "1.5.0",
            "value": 29,
            "_view_count": null,
            "_view_module_version": "1.5.0",
            "orientation": "horizontal",
            "min": 0,
            "description_tooltip": null,
            "_model_module": "@jupyter-widgets/controls",
            "layout": "IPY_MODEL_3ebdc961b01c434589fb44218d6ba015"
          }
        },
        "dd89c71c1c1e48a7b82c6fd3fcf29fd0": {
          "model_module": "@jupyter-widgets/controls",
          "model_name": "HTMLModel",
          "model_module_version": "1.5.0",
          "state": {
            "_view_name": "HTMLView",
            "style": "IPY_MODEL_b0bdfff91d0743e294287c20d118a4be",
            "_dom_classes": [],
            "description": "",
            "_model_name": "HTMLModel",
            "placeholder": "​",
            "_view_module": "@jupyter-widgets/controls",
            "_model_module_version": "1.5.0",
            "value": " 29.0/29.0 [00:00&lt;00:00, 835B/s]",
            "_view_count": null,
            "_view_module_version": "1.5.0",
            "description_tooltip": null,
            "_model_module": "@jupyter-widgets/controls",
            "layout": "IPY_MODEL_5c04044b3e9e4b7dad9952dbf99bd9e3"
          }
        },
        "84d061b0f05949d5829b710678584b10": {
          "model_module": "@jupyter-widgets/controls",
          "model_name": "DescriptionStyleModel",
          "model_module_version": "1.5.0",
          "state": {
            "_view_name": "StyleView",
            "_model_name": "DescriptionStyleModel",
            "description_width": "",
            "_view_module": "@jupyter-widgets/base",
            "_model_module_version": "1.5.0",
            "_view_count": null,
            "_view_module_version": "1.2.0",
            "_model_module": "@jupyter-widgets/controls"
          }
        },
        "9a46413c014e4790b0a6f984261a6f7f": {
          "model_module": "@jupyter-widgets/base",
          "model_name": "LayoutModel",
          "model_module_version": "1.2.0",
          "state": {
            "_view_name": "LayoutView",
            "grid_template_rows": null,
            "right": null,
            "justify_content": null,
            "_view_module": "@jupyter-widgets/base",
            "overflow": null,
            "_model_module_version": "1.2.0",
            "_view_count": null,
            "flex_flow": null,
            "width": null,
            "min_width": null,
            "border": null,
            "align_items": null,
            "bottom": null,
            "_model_module": "@jupyter-widgets/base",
            "top": null,
            "grid_column": null,
            "overflow_y": null,
            "overflow_x": null,
            "grid_auto_flow": null,
            "grid_area": null,
            "grid_template_columns": null,
            "flex": null,
            "_model_name": "LayoutModel",
            "justify_items": null,
            "grid_row": null,
            "max_height": null,
            "align_content": null,
            "visibility": null,
            "align_self": null,
            "height": null,
            "min_height": null,
            "padding": null,
            "grid_auto_rows": null,
            "grid_gap": null,
            "max_width": null,
            "order": null,
            "_view_module_version": "1.2.0",
            "grid_template_areas": null,
            "object_position": null,
            "object_fit": null,
            "grid_auto_columns": null,
            "margin": null,
            "display": null,
            "left": null
          }
        },
        "9b0ff122922640c4a5541809cde0abaa": {
          "model_module": "@jupyter-widgets/controls",
          "model_name": "ProgressStyleModel",
          "model_module_version": "1.5.0",
          "state": {
            "_view_name": "StyleView",
            "_model_name": "ProgressStyleModel",
            "description_width": "",
            "_view_module": "@jupyter-widgets/base",
            "_model_module_version": "1.5.0",
            "_view_count": null,
            "_view_module_version": "1.2.0",
            "bar_color": null,
            "_model_module": "@jupyter-widgets/controls"
          }
        },
        "3ebdc961b01c434589fb44218d6ba015": {
          "model_module": "@jupyter-widgets/base",
          "model_name": "LayoutModel",
          "model_module_version": "1.2.0",
          "state": {
            "_view_name": "LayoutView",
            "grid_template_rows": null,
            "right": null,
            "justify_content": null,
            "_view_module": "@jupyter-widgets/base",
            "overflow": null,
            "_model_module_version": "1.2.0",
            "_view_count": null,
            "flex_flow": null,
            "width": null,
            "min_width": null,
            "border": null,
            "align_items": null,
            "bottom": null,
            "_model_module": "@jupyter-widgets/base",
            "top": null,
            "grid_column": null,
            "overflow_y": null,
            "overflow_x": null,
            "grid_auto_flow": null,
            "grid_area": null,
            "grid_template_columns": null,
            "flex": null,
            "_model_name": "LayoutModel",
            "justify_items": null,
            "grid_row": null,
            "max_height": null,
            "align_content": null,
            "visibility": null,
            "align_self": null,
            "height": null,
            "min_height": null,
            "padding": null,
            "grid_auto_rows": null,
            "grid_gap": null,
            "max_width": null,
            "order": null,
            "_view_module_version": "1.2.0",
            "grid_template_areas": null,
            "object_position": null,
            "object_fit": null,
            "grid_auto_columns": null,
            "margin": null,
            "display": null,
            "left": null
          }
        },
        "b0bdfff91d0743e294287c20d118a4be": {
          "model_module": "@jupyter-widgets/controls",
          "model_name": "DescriptionStyleModel",
          "model_module_version": "1.5.0",
          "state": {
            "_view_name": "StyleView",
            "_model_name": "DescriptionStyleModel",
            "description_width": "",
            "_view_module": "@jupyter-widgets/base",
            "_model_module_version": "1.5.0",
            "_view_count": null,
            "_view_module_version": "1.2.0",
            "_model_module": "@jupyter-widgets/controls"
          }
        },
        "5c04044b3e9e4b7dad9952dbf99bd9e3": {
          "model_module": "@jupyter-widgets/base",
          "model_name": "LayoutModel",
          "model_module_version": "1.2.0",
          "state": {
            "_view_name": "LayoutView",
            "grid_template_rows": null,
            "right": null,
            "justify_content": null,
            "_view_module": "@jupyter-widgets/base",
            "overflow": null,
            "_model_module_version": "1.2.0",
            "_view_count": null,
            "flex_flow": null,
            "width": null,
            "min_width": null,
            "border": null,
            "align_items": null,
            "bottom": null,
            "_model_module": "@jupyter-widgets/base",
            "top": null,
            "grid_column": null,
            "overflow_y": null,
            "overflow_x": null,
            "grid_auto_flow": null,
            "grid_area": null,
            "grid_template_columns": null,
            "flex": null,
            "_model_name": "LayoutModel",
            "justify_items": null,
            "grid_row": null,
            "max_height": null,
            "align_content": null,
            "visibility": null,
            "align_self": null,
            "height": null,
            "min_height": null,
            "padding": null,
            "grid_auto_rows": null,
            "grid_gap": null,
            "max_width": null,
            "order": null,
            "_view_module_version": "1.2.0",
            "grid_template_areas": null,
            "object_position": null,
            "object_fit": null,
            "grid_auto_columns": null,
            "margin": null,
            "display": null,
            "left": null
          }
        },
        "22d30e2712824ca994d774af6161e4cc": {
          "model_module": "@jupyter-widgets/controls",
          "model_name": "HBoxModel",
          "model_module_version": "1.5.0",
          "state": {
            "_view_name": "HBoxView",
            "_dom_classes": [],
            "_model_name": "HBoxModel",
            "_view_module": "@jupyter-widgets/controls",
            "_model_module_version": "1.5.0",
            "_view_count": null,
            "_view_module_version": "1.5.0",
            "box_style": "",
            "layout": "IPY_MODEL_47dc1a3497df4683905647d4cffd6af1",
            "_model_module": "@jupyter-widgets/controls",
            "children": [
              "IPY_MODEL_fd4cce3e6c164d1e862ed54eb7e05944",
              "IPY_MODEL_9cc6c56b494f462c8439bd83295476b1",
              "IPY_MODEL_7a016a7390634937aa24bd0da0dc4bec"
            ]
          }
        },
        "47dc1a3497df4683905647d4cffd6af1": {
          "model_module": "@jupyter-widgets/base",
          "model_name": "LayoutModel",
          "model_module_version": "1.2.0",
          "state": {
            "_view_name": "LayoutView",
            "grid_template_rows": null,
            "right": null,
            "justify_content": null,
            "_view_module": "@jupyter-widgets/base",
            "overflow": null,
            "_model_module_version": "1.2.0",
            "_view_count": null,
            "flex_flow": null,
            "width": null,
            "min_width": null,
            "border": null,
            "align_items": null,
            "bottom": null,
            "_model_module": "@jupyter-widgets/base",
            "top": null,
            "grid_column": null,
            "overflow_y": null,
            "overflow_x": null,
            "grid_auto_flow": null,
            "grid_area": null,
            "grid_template_columns": null,
            "flex": null,
            "_model_name": "LayoutModel",
            "justify_items": null,
            "grid_row": null,
            "max_height": null,
            "align_content": null,
            "visibility": null,
            "align_self": null,
            "height": null,
            "min_height": null,
            "padding": null,
            "grid_auto_rows": null,
            "grid_gap": null,
            "max_width": null,
            "order": null,
            "_view_module_version": "1.2.0",
            "grid_template_areas": null,
            "object_position": null,
            "object_fit": null,
            "grid_auto_columns": null,
            "margin": null,
            "display": null,
            "left": null
          }
        },
        "fd4cce3e6c164d1e862ed54eb7e05944": {
          "model_module": "@jupyter-widgets/controls",
          "model_name": "HTMLModel",
          "model_module_version": "1.5.0",
          "state": {
            "_view_name": "HTMLView",
            "style": "IPY_MODEL_73f93c19647b4c94a980a45c30e2acc0",
            "_dom_classes": [],
            "description": "",
            "_model_name": "HTMLModel",
            "placeholder": "​",
            "_view_module": "@jupyter-widgets/controls",
            "_model_module_version": "1.5.0",
            "value": "Downloading: 100%",
            "_view_count": null,
            "_view_module_version": "1.5.0",
            "description_tooltip": null,
            "_model_module": "@jupyter-widgets/controls",
            "layout": "IPY_MODEL_a24e04566bd44d788099fd1e42a8ac45"
          }
        },
        "9cc6c56b494f462c8439bd83295476b1": {
          "model_module": "@jupyter-widgets/controls",
          "model_name": "FloatProgressModel",
          "model_module_version": "1.5.0",
          "state": {
            "_view_name": "ProgressView",
            "style": "IPY_MODEL_936f3a8fe6af4efbadc3539de2d2d067",
            "_dom_classes": [],
            "description": "",
            "_model_name": "FloatProgressModel",
            "bar_style": "success",
            "max": 570,
            "_view_module": "@jupyter-widgets/controls",
            "_model_module_version": "1.5.0",
            "value": 570,
            "_view_count": null,
            "_view_module_version": "1.5.0",
            "orientation": "horizontal",
            "min": 0,
            "description_tooltip": null,
            "_model_module": "@jupyter-widgets/controls",
            "layout": "IPY_MODEL_285bed848e104dc78d125d298f1ae270"
          }
        },
        "7a016a7390634937aa24bd0da0dc4bec": {
          "model_module": "@jupyter-widgets/controls",
          "model_name": "HTMLModel",
          "model_module_version": "1.5.0",
          "state": {
            "_view_name": "HTMLView",
            "style": "IPY_MODEL_26dae79a9df448d8a9c02891d8e8477e",
            "_dom_classes": [],
            "description": "",
            "_model_name": "HTMLModel",
            "placeholder": "​",
            "_view_module": "@jupyter-widgets/controls",
            "_model_module_version": "1.5.0",
            "value": " 570/570 [00:00&lt;00:00, 15.3kB/s]",
            "_view_count": null,
            "_view_module_version": "1.5.0",
            "description_tooltip": null,
            "_model_module": "@jupyter-widgets/controls",
            "layout": "IPY_MODEL_0f9432197a7c4c13b2052d29d949a4e0"
          }
        },
        "73f93c19647b4c94a980a45c30e2acc0": {
          "model_module": "@jupyter-widgets/controls",
          "model_name": "DescriptionStyleModel",
          "model_module_version": "1.5.0",
          "state": {
            "_view_name": "StyleView",
            "_model_name": "DescriptionStyleModel",
            "description_width": "",
            "_view_module": "@jupyter-widgets/base",
            "_model_module_version": "1.5.0",
            "_view_count": null,
            "_view_module_version": "1.2.0",
            "_model_module": "@jupyter-widgets/controls"
          }
        },
        "a24e04566bd44d788099fd1e42a8ac45": {
          "model_module": "@jupyter-widgets/base",
          "model_name": "LayoutModel",
          "model_module_version": "1.2.0",
          "state": {
            "_view_name": "LayoutView",
            "grid_template_rows": null,
            "right": null,
            "justify_content": null,
            "_view_module": "@jupyter-widgets/base",
            "overflow": null,
            "_model_module_version": "1.2.0",
            "_view_count": null,
            "flex_flow": null,
            "width": null,
            "min_width": null,
            "border": null,
            "align_items": null,
            "bottom": null,
            "_model_module": "@jupyter-widgets/base",
            "top": null,
            "grid_column": null,
            "overflow_y": null,
            "overflow_x": null,
            "grid_auto_flow": null,
            "grid_area": null,
            "grid_template_columns": null,
            "flex": null,
            "_model_name": "LayoutModel",
            "justify_items": null,
            "grid_row": null,
            "max_height": null,
            "align_content": null,
            "visibility": null,
            "align_self": null,
            "height": null,
            "min_height": null,
            "padding": null,
            "grid_auto_rows": null,
            "grid_gap": null,
            "max_width": null,
            "order": null,
            "_view_module_version": "1.2.0",
            "grid_template_areas": null,
            "object_position": null,
            "object_fit": null,
            "grid_auto_columns": null,
            "margin": null,
            "display": null,
            "left": null
          }
        },
        "936f3a8fe6af4efbadc3539de2d2d067": {
          "model_module": "@jupyter-widgets/controls",
          "model_name": "ProgressStyleModel",
          "model_module_version": "1.5.0",
          "state": {
            "_view_name": "StyleView",
            "_model_name": "ProgressStyleModel",
            "description_width": "",
            "_view_module": "@jupyter-widgets/base",
            "_model_module_version": "1.5.0",
            "_view_count": null,
            "_view_module_version": "1.2.0",
            "bar_color": null,
            "_model_module": "@jupyter-widgets/controls"
          }
        },
        "285bed848e104dc78d125d298f1ae270": {
          "model_module": "@jupyter-widgets/base",
          "model_name": "LayoutModel",
          "model_module_version": "1.2.0",
          "state": {
            "_view_name": "LayoutView",
            "grid_template_rows": null,
            "right": null,
            "justify_content": null,
            "_view_module": "@jupyter-widgets/base",
            "overflow": null,
            "_model_module_version": "1.2.0",
            "_view_count": null,
            "flex_flow": null,
            "width": null,
            "min_width": null,
            "border": null,
            "align_items": null,
            "bottom": null,
            "_model_module": "@jupyter-widgets/base",
            "top": null,
            "grid_column": null,
            "overflow_y": null,
            "overflow_x": null,
            "grid_auto_flow": null,
            "grid_area": null,
            "grid_template_columns": null,
            "flex": null,
            "_model_name": "LayoutModel",
            "justify_items": null,
            "grid_row": null,
            "max_height": null,
            "align_content": null,
            "visibility": null,
            "align_self": null,
            "height": null,
            "min_height": null,
            "padding": null,
            "grid_auto_rows": null,
            "grid_gap": null,
            "max_width": null,
            "order": null,
            "_view_module_version": "1.2.0",
            "grid_template_areas": null,
            "object_position": null,
            "object_fit": null,
            "grid_auto_columns": null,
            "margin": null,
            "display": null,
            "left": null
          }
        },
        "26dae79a9df448d8a9c02891d8e8477e": {
          "model_module": "@jupyter-widgets/controls",
          "model_name": "DescriptionStyleModel",
          "model_module_version": "1.5.0",
          "state": {
            "_view_name": "StyleView",
            "_model_name": "DescriptionStyleModel",
            "description_width": "",
            "_view_module": "@jupyter-widgets/base",
            "_model_module_version": "1.5.0",
            "_view_count": null,
            "_view_module_version": "1.2.0",
            "_model_module": "@jupyter-widgets/controls"
          }
        },
        "0f9432197a7c4c13b2052d29d949a4e0": {
          "model_module": "@jupyter-widgets/base",
          "model_name": "LayoutModel",
          "model_module_version": "1.2.0",
          "state": {
            "_view_name": "LayoutView",
            "grid_template_rows": null,
            "right": null,
            "justify_content": null,
            "_view_module": "@jupyter-widgets/base",
            "overflow": null,
            "_model_module_version": "1.2.0",
            "_view_count": null,
            "flex_flow": null,
            "width": null,
            "min_width": null,
            "border": null,
            "align_items": null,
            "bottom": null,
            "_model_module": "@jupyter-widgets/base",
            "top": null,
            "grid_column": null,
            "overflow_y": null,
            "overflow_x": null,
            "grid_auto_flow": null,
            "grid_area": null,
            "grid_template_columns": null,
            "flex": null,
            "_model_name": "LayoutModel",
            "justify_items": null,
            "grid_row": null,
            "max_height": null,
            "align_content": null,
            "visibility": null,
            "align_self": null,
            "height": null,
            "min_height": null,
            "padding": null,
            "grid_auto_rows": null,
            "grid_gap": null,
            "max_width": null,
            "order": null,
            "_view_module_version": "1.2.0",
            "grid_template_areas": null,
            "object_position": null,
            "object_fit": null,
            "grid_auto_columns": null,
            "margin": null,
            "display": null,
            "left": null
          }
        }
      }
    }
  },
  "nbformat": 4,
  "nbformat_minor": 0
}